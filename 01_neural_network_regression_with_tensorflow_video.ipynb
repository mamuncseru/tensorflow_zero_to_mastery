{
  "nbformat": 4,
  "nbformat_minor": 0,
  "metadata": {
    "colab": {
      "provenance": [],
      "authorship_tag": "ABX9TyNFIflHluI89fj5e7dq/vyv",
      "include_colab_link": true
    },
    "kernelspec": {
      "name": "python3",
      "display_name": "Python 3"
    },
    "language_info": {
      "name": "python"
    }
  },
  "cells": [
    {
      "cell_type": "markdown",
      "metadata": {
        "id": "view-in-github",
        "colab_type": "text"
      },
      "source": [
        "<a href=\"https://colab.research.google.com/github/mamuncseru/tensorflow_zero_to_mastery/blob/main/01_neural_network_regression_with_tensorflow_video.ipynb\" target=\"_parent\"><img src=\"https://colab.research.google.com/assets/colab-badge.svg\" alt=\"Open In Colab\"/></a>"
      ]
    },
    {
      "cell_type": "markdown",
      "source": [
        "# Introduction to Regression with Neural Networks in Tensorflow\n",
        "\n",
        "There are many definitions for a regression problem but in our case, we're going to simplify it: predicting a numerical variable based on some other combination of variables, even shorter... predicting a number."
      ],
      "metadata": {
        "id": "xvvP_DcogWnW"
      }
    },
    {
      "cell_type": "code",
      "source": [
        "# import TensorFlow\n",
        "import tensorflow as tf\n",
        "print(tf.__version__)"
      ],
      "metadata": {
        "colab": {
          "base_uri": "https://localhost:8080/"
        },
        "id": "Uh_m_0KMhVWc",
        "outputId": "44bb8fc4-c66c-4307-c4f9-b6d84d0da0c2"
      },
      "execution_count": 1,
      "outputs": [
        {
          "output_type": "stream",
          "name": "stdout",
          "text": [
            "2.12.0\n"
          ]
        }
      ]
    },
    {
      "cell_type": "markdown",
      "source": [
        "## Creating data to view and fit"
      ],
      "metadata": {
        "id": "uLFMh2wghfon"
      }
    },
    {
      "cell_type": "code",
      "source": [
        "import numpy as np\n",
        "import matplotlib.pyplot as plt\n",
        "\n",
        "# Create features\n",
        "X = np.array([-7.0, -4.0, -1.0, 2.0, 5.0, 8.0, 11.0, 14.0])\n",
        "\n",
        "# Create labels\n",
        "y = np.array([3.0, 6.0, 9.0, 12.0, 15.0, 18.0, 21.0, 24.0])\n",
        "\n",
        "# Visualize it\n",
        "plt.scatter(X, y);"
      ],
      "metadata": {
        "colab": {
          "base_uri": "https://localhost:8080/",
          "height": 435
        },
        "id": "3hlreLBHhn3Z",
        "outputId": "698175b8-4dab-48ac-cdcb-8eaf595da75e"
      },
      "execution_count": 4,
      "outputs": [
        {
          "output_type": "display_data",
          "data": {
            "text/plain": [
              "<Figure size 640x480 with 1 Axes>"
            ],
            "image/png": "[encoded data removed]"
          },
          "metadata": {}
        }
      ]
    },
    {
      "cell_type": "code",
      "source": [
        "y == X + 10"
      ],
      "metadata": {
        "colab": {
          "base_uri": "https://localhost:8080/"
        },
        "id": "S4Z7fcHMiF-Q",
        "outputId": "6f957b4b-d4ee-464e-d41e-e8ff65441a8c"
      },
      "execution_count": 5,
      "outputs": [
        {
          "output_type": "execute_result",
          "data": {
            "text/plain": [
              "array([ True,  True,  True,  True,  True,  True,  True,  True])"
            ]
          },
          "metadata": {},
          "execution_count": 5
        }
      ]
    },
    {
      "cell_type": "markdown",
      "source": [
        "## Input and output shapes"
      ],
      "metadata": {
        "id": "Zp1bk-z7iXIU"
      }
    },
    {
      "cell_type": "code",
      "source": [
        "# Create a demo tensor for our housing price prediction problem\n",
        "house_info = tf.constant([\"bedroom\", \"bathroom\", \"garage\"])\n",
        "house_price = tf.constant([939700])\n",
        "house_info, house_price"
      ],
      "metadata": {
        "colab": {
          "base_uri": "https://localhost:8080/"
        },
        "id": "jBrqp89VieeA",
        "outputId": "37f8b4ac-0c36-4716-9fa1-01c56808e4f6"
      },
      "execution_count": 6,
      "outputs": [
        {
          "output_type": "execute_result",
          "data": {
            "text/plain": [
              "(<tf.Tensor: shape=(3,), dtype=string, numpy=array([b'bedroom', b'bathroom', b'garage'], dtype=object)>,\n",
              " <tf.Tensor: shape=(1,), dtype=int32, numpy=array([939700], dtype=int32)>)"
            ]
          },
          "metadata": {},
          "execution_count": 6
        }
      ]
    },
    {
      "cell_type": "code",
      "source": [
        "X[0], y[0]"
      ],
      "metadata": {
        "colab": {
          "base_uri": "https://localhost:8080/"
        },
        "id": "kOWMDEf1jLq3",
        "outputId": "f50588d1-048c-4d79-96f0-705eafe40ad4"
      },
      "execution_count": 8,
      "outputs": [
        {
          "output_type": "execute_result",
          "data": {
            "text/plain": [
              "(-7.0, 3.0)"
            ]
          },
          "metadata": {},
          "execution_count": 8
        }
      ]
    },
    {
      "cell_type": "code",
      "source": [
        "X[1], y[1]"
      ],
      "metadata": {
        "colab": {
          "base_uri": "https://localhost:8080/"
        },
        "id": "sS3TqxxCjOyM",
        "outputId": "897c02e1-0158-422c-af85-47c9bdbb3c23"
      },
      "execution_count": 9,
      "outputs": [
        {
          "output_type": "execute_result",
          "data": {
            "text/plain": [
              "(-4.0, 6.0)"
            ]
          },
          "metadata": {},
          "execution_count": 9
        }
      ]
    },
    {
      "cell_type": "code",
      "source": [
        "input_shape = X[0].shape\n",
        "output_shape = y[0].shape\n",
        "input_shape, output_shape"
      ],
      "metadata": {
        "colab": {
          "base_uri": "https://localhost:8080/"
        },
        "id": "LgTeEsWEi8OJ",
        "outputId": "f20374f9-76e9-4831-80c6-df30a18f572f"
      },
      "execution_count": 12,
      "outputs": [
        {
          "output_type": "execute_result",
          "data": {
            "text/plain": [
              "((), ())"
            ]
          },
          "metadata": {},
          "execution_count": 12
        }
      ]
    },
    {
      "cell_type": "code",
      "source": [
        "X[0].ndim"
      ],
      "metadata": {
        "colab": {
          "base_uri": "https://localhost:8080/"
        },
        "id": "Drxim2-yjond",
        "outputId": "5292c729-75a3-4b19-d115-247690ee02fd"
      },
      "execution_count": 11,
      "outputs": [
        {
          "output_type": "execute_result",
          "data": {
            "text/plain": [
              "0"
            ]
          },
          "metadata": {},
          "execution_count": 11
        }
      ]
    },
    {
      "cell_type": "code",
      "source": [
        "X[0], y[0]"
      ],
      "metadata": {
        "colab": {
          "base_uri": "https://localhost:8080/"
        },
        "id": "MbpW49zPjG0F",
        "outputId": "d4315c5f-a122-4eab-b237-9ae8dcccdd23"
      },
      "execution_count": 10,
      "outputs": [
        {
          "output_type": "execute_result",
          "data": {
            "text/plain": [
              "(-7.0, 3.0)"
            ]
          },
          "metadata": {},
          "execution_count": 10
        }
      ]
    },
    {
      "cell_type": "code",
      "source": [
        "# Turn our NumPy arrays into tensors\n",
        "X = tf.cast(tf.constant(X), dtype=tf.float32)\n",
        "y = tf.cast(tf.constant(y), dtype=tf.float32)\n",
        "X, y"
      ],
      "metadata": {
        "colab": {
          "base_uri": "https://localhost:8080/"
        },
        "id": "36fzgtdOjlYW",
        "outputId": "e538c623-7801-4cec-dacd-4222cf537ce9"
      },
      "execution_count": 20,
      "outputs": [
        {
          "output_type": "execute_result",
          "data": {
            "text/plain": [
              "(<tf.Tensor: shape=(8,), dtype=float32, numpy=array([-7., -4., -1.,  2.,  5.,  8., 11., 14.], dtype=float32)>,\n",
              " <tf.Tensor: shape=(8,), dtype=float32, numpy=array([ 3.,  6.,  9., 12., 15., 18., 21., 24.], dtype=float32)>)"
            ]
          },
          "metadata": {},
          "execution_count": 20
        }
      ]
    },
    {
      "cell_type": "code",
      "source": [
        "input_shape = X[0].shape\n",
        "output_shape = y[0].shape\n",
        "input_shape, output_shape"
      ],
      "metadata": {
        "colab": {
          "base_uri": "https://localhost:8080/"
        },
        "id": "fnNrHe-ej8FX",
        "outputId": "0d8cbe06-562e-431a-89e7-26fa64de1af0"
      },
      "execution_count": 14,
      "outputs": [
        {
          "output_type": "execute_result",
          "data": {
            "text/plain": [
              "(TensorShape([]), TensorShape([]))"
            ]
          },
          "metadata": {},
          "execution_count": 14
        }
      ]
    },
    {
      "cell_type": "code",
      "source": [
        "plt.scatter(X, y)"
      ],
      "metadata": {
        "colab": {
          "base_uri": "https://localhost:8080/",
          "height": 452
        },
        "id": "8SndUmBikEEN",
        "outputId": "7a32322b-9264-4561-af41-5c24b5cfae2f"
      },
      "execution_count": 15,
      "outputs": [
        {
          "output_type": "execute_result",
          "data": {
            "text/plain": [
              "<matplotlib.collections.PathCollection at 0x7f7a98f5e5e0>"
            ]
          },
          "metadata": {},
          "execution_count": 15
        },
        {
          "output_type": "display_data",
          "data": {
            "text/plain": [
              "<Figure size 640x480 with 1 Axes>"
            ],
            "image/png": "[encoded data removed]"
          },
          "metadata": {}
        }
      ]
    },
    {
      "cell_type": "markdown",
      "source": [
        "## Steps in modelling with Tensorflow\n",
        "\n",
        "1. **Creating a model** - define the input and output layers, as well as the hidden layers of a deep learning model.\n",
        "2. **Compiling a model** - define the loss function (in others words, the function which tells our model how wrong it is) and the optimizer (tells our model how to improve the patterns its learning) and evaluation metrics (what we can use to interpret the performance of our model).\n",
        "3. Fitting a model -letting the model try to find patterns between X & y (features and labels)"
      ],
      "metadata": {
        "id": "3TDUtBCckK69"
      }
    },
    {
      "cell_type": "code",
      "source": [
        "# set random seed\n",
        "tf.random.set_seed(42)\n",
        "\n",
        "#1. Create a model using the Sequential API\n",
        "model = tf.keras.Sequential([\n",
        "    tf.keras.layers.Dense(1)\n",
        "])\n",
        "\n",
        "# 2. Compile the model\n",
        "model.compile(loss = tf.keras.losses.mae, # mae is short for mean absolute error\n",
        "              optimizer = tf.keras.optimizers.SGD(), # SGD is short for Stochastic gradient descent\n",
        "              metrics=[\"mae\"])\n",
        "\n",
        "# 3. Fit the model\n",
        "model.fit(tf.expand_dims(X, axis=-1), y, epochs=5)"
      ],
      "metadata": {
        "colab": {
          "base_uri": "https://localhost:8080/"
        },
        "id": "IfxNYWm2k2us",
        "outputId": "31470b18-fd8c-4eeb-e082-9a757ab1ae25"
      },
      "execution_count": 21,
      "outputs": [
        {
          "output_type": "stream",
          "name": "stdout",
          "text": [
            "Epoch 1/5\n",
            "1/1 [==============================] - 0s 323ms/step - loss: 17.5098 - mae: 17.5098\n",
            "Epoch 2/5\n",
            "1/1 [==============================] - 0s 9ms/step - loss: 17.2285 - mae: 17.2285\n",
            "Epoch 3/5\n",
            "1/1 [==============================] - 0s 11ms/step - loss: 16.9473 - mae: 16.9473\n",
            "Epoch 4/5\n",
            "1/1 [==============================] - 0s 7ms/step - loss: 16.6660 - mae: 16.6660\n",
            "Epoch 5/5\n",
            "1/1 [==============================] - 0s 8ms/step - loss: 16.3848 - mae: 16.3848\n"
          ]
        },
        {
          "output_type": "execute_result",
          "data": {
            "text/plain": [
              "<keras.callbacks.History at 0x7f7a986a3850>"
            ]
          },
          "metadata": {},
          "execution_count": 21
        }
      ]
    },
    {
      "cell_type": "code",
      "source": [
        "# Check out X and y\n",
        "X, y"
      ],
      "metadata": {
        "colab": {
          "base_uri": "https://localhost:8080/"
        },
        "id": "9qtF7DT-mkKM",
        "outputId": "a4acbccf-609f-4fee-c815-ddded302d087"
      },
      "execution_count": 22,
      "outputs": [
        {
          "output_type": "execute_result",
          "data": {
            "text/plain": [
              "(<tf.Tensor: shape=(8,), dtype=float32, numpy=array([-7., -4., -1.,  2.,  5.,  8., 11., 14.], dtype=float32)>,\n",
              " <tf.Tensor: shape=(8,), dtype=float32, numpy=array([ 3.,  6.,  9., 12., 15., 18., 21., 24.], dtype=float32)>)"
            ]
          },
          "metadata": {},
          "execution_count": 22
        }
      ]
    },
    {
      "cell_type": "code",
      "source": [
        "# try and make a prediction using our model\n",
        "y_pred = model.predict([17.0])\n",
        "y_pred"
      ],
      "metadata": {
        "colab": {
          "base_uri": "https://localhost:8080/"
        },
        "id": "o_aLB0WuoU3O",
        "outputId": "7e4991c2-bad5-4f3a-dc31-afa9685717e9"
      },
      "execution_count": 24,
      "outputs": [
        {
          "output_type": "stream",
          "name": "stdout",
          "text": [
            "1/1 [==============================] - 0s 56ms/step\n"
          ]
        },
        {
          "output_type": "execute_result",
          "data": {
            "text/plain": [
              "array([[-10.91258]], dtype=float32)"
            ]
          },
          "metadata": {},
          "execution_count": 24
        }
      ]
    },
    {
      "cell_type": "code",
      "source": [
        "y_pred + 16"
      ],
      "metadata": {
        "colab": {
          "base_uri": "https://localhost:8080/"
        },
        "id": "CqFvIAYVobO_",
        "outputId": "2f1eee78-7cf2-4ff3-8201-9a4246414df6"
      },
      "execution_count": 26,
      "outputs": [
        {
          "output_type": "execute_result",
          "data": {
            "text/plain": [
              "array([[5.0874205]], dtype=float32)"
            ]
          },
          "metadata": {},
          "execution_count": 26
        }
      ]
    },
    {
      "cell_type": "markdown",
      "source": [
        "## Improving our model\n",
        "\n",
        "We can improve our model, by altering the steps we took to create a model.\n",
        "\n",
        "1. **Creating a model** - here we might add more layers,\n",
        "increase the number of hidden units (also called neurons)\n",
        "within each of the hidden layers, change the activation function of each layer.\n",
        "2. **Compiling a model** - here we might change the optimization function or perhaps the **learning rate** of the optimization function.\n",
        "3. **Fitting a model** - here we might fit a model for more epochs (leave it training for longer) or on more data (give the model more examples to learn from)"
      ],
      "metadata": {
        "id": "r3TkJ6HtotkW"
      }
    },
    {
      "cell_type": "code",
      "source": [
        "# Let's rebuild our model\n",
        "\n",
        "# 1. Create the model\n",
        "model = tf.keras.Sequential([\n",
        "    tf.keras.layers.Dense(1)\n",
        "])\n",
        "\n",
        "# 2. Compile the model\n",
        "model.compile(loss=tf.keras.losses.mae,\n",
        "              optimizer=tf.keras.optimizers.SGD(),\n",
        "              metrics=['mae'])\n",
        "\n",
        "# 3. fit the model (this time we'll train for longer)\n",
        "model.fit(tf.expand_dims(X, axis=-1), y, epochs=100)"
      ],
      "metadata": {
        "colab": {
          "base_uri": "https://localhost:8080/"
        },
        "id": "-KtogCRCuLAx",
        "outputId": "4ba25f7e-2667-4a70-faf6-40e9cf16578e"
      },
      "execution_count": 30,
      "outputs": [
        {
          "output_type": "stream",
          "name": "stdout",
          "text": [
            "Epoch 1/100\n",
            "1/1 [==============================] - 2s 2s/step - loss: 10.6374 - mae: 10.6374\n",
            "Epoch 2/100\n",
            "1/1 [==============================] - 0s 11ms/step - loss: 10.5049 - mae: 10.5049\n",
            "Epoch 3/100\n",
            "1/1 [==============================] - 0s 16ms/step - loss: 10.3724 - mae: 10.3724\n",
            "Epoch 4/100\n",
            "1/1 [==============================] - 0s 14ms/step - loss: 10.2399 - mae: 10.2399\n",
            "Epoch 5/100\n",
            "1/1 [==============================] - 0s 13ms/step - loss: 10.1074 - mae: 10.1074\n",
            "Epoch 6/100\n",
            "1/1 [==============================] - 0s 14ms/step - loss: 9.9749 - mae: 9.9749\n",
            "Epoch 7/100\n",
            "1/1 [==============================] - 0s 15ms/step - loss: 9.8424 - mae: 9.8424\n",
            "Epoch 8/100\n",
            "1/1 [==============================] - 0s 16ms/step - loss: 9.7099 - mae: 9.7099\n",
            "Epoch 9/100\n",
            "1/1 [==============================] - 0s 15ms/step - loss: 9.5774 - mae: 9.5774\n",
            "Epoch 10/100\n",
            "1/1 [==============================] - 0s 14ms/step - loss: 9.4449 - mae: 9.4449\n",
            "Epoch 11/100\n",
            "1/1 [==============================] - 0s 21ms/step - loss: 9.3124 - mae: 9.3124\n",
            "Epoch 12/100\n",
            "1/1 [==============================] - 0s 15ms/step - loss: 9.1799 - mae: 9.1799\n",
            "Epoch 13/100\n",
            "1/1 [==============================] - 0s 15ms/step - loss: 9.0474 - mae: 9.0474\n",
            "Epoch 14/100\n",
            "1/1 [==============================] - 0s 18ms/step - loss: 8.9149 - mae: 8.9149\n",
            "Epoch 15/100\n",
            "1/1 [==============================] - 0s 43ms/step - loss: 8.7824 - mae: 8.7824\n",
            "Epoch 16/100\n",
            "1/1 [==============================] - 0s 29ms/step - loss: 8.6499 - mae: 8.6499\n",
            "Epoch 17/100\n",
            "1/1 [==============================] - 0s 21ms/step - loss: 8.5174 - mae: 8.5174\n",
            "Epoch 18/100\n",
            "1/1 [==============================] - 0s 18ms/step - loss: 8.3849 - mae: 8.3849\n",
            "Epoch 19/100\n",
            "1/1 [==============================] - 0s 31ms/step - loss: 8.2524 - mae: 8.2524\n",
            "Epoch 20/100\n",
            "1/1 [==============================] - 0s 30ms/step - loss: 8.1199 - mae: 8.1199\n",
            "Epoch 21/100\n",
            "1/1 [==============================] - 0s 24ms/step - loss: 7.9874 - mae: 7.9874\n",
            "Epoch 22/100\n",
            "1/1 [==============================] - 0s 14ms/step - loss: 7.8549 - mae: 7.8549\n",
            "Epoch 23/100\n",
            "1/1 [==============================] - 0s 30ms/step - loss: 7.7224 - mae: 7.7224\n",
            "Epoch 24/100\n",
            "1/1 [==============================] - 0s 12ms/step - loss: 7.5899 - mae: 7.5899\n",
            "Epoch 25/100\n",
            "1/1 [==============================] - 0s 12ms/step - loss: 7.4574 - mae: 7.4574\n",
            "Epoch 26/100\n",
            "1/1 [==============================] - 0s 12ms/step - loss: 7.3249 - mae: 7.3249\n",
            "Epoch 27/100\n",
            "1/1 [==============================] - 0s 12ms/step - loss: 7.3050 - mae: 7.3050\n",
            "Epoch 28/100\n",
            "1/1 [==============================] - 0s 12ms/step - loss: 7.2994 - mae: 7.2994\n",
            "Epoch 29/100\n",
            "1/1 [==============================] - 0s 12ms/step - loss: 7.2937 - mae: 7.2937\n",
            "Epoch 30/100\n",
            "1/1 [==============================] - 0s 12ms/step - loss: 7.2881 - mae: 7.2881\n",
            "Epoch 31/100\n",
            "1/1 [==============================] - 0s 12ms/step - loss: 7.2825 - mae: 7.2825\n",
            "Epoch 32/100\n",
            "1/1 [==============================] - 0s 11ms/step - loss: 7.2769 - mae: 7.2769\n",
            "Epoch 33/100\n",
            "1/1 [==============================] - 0s 11ms/step - loss: 7.2712 - mae: 7.2712\n",
            "Epoch 34/100\n",
            "1/1 [==============================] - 0s 33ms/step - loss: 7.2656 - mae: 7.2656\n",
            "Epoch 35/100\n",
            "1/1 [==============================] - 0s 19ms/step - loss: 7.2600 - mae: 7.2600\n",
            "Epoch 36/100\n",
            "1/1 [==============================] - 0s 23ms/step - loss: 7.2544 - mae: 7.2544\n",
            "Epoch 37/100\n",
            "1/1 [==============================] - 0s 18ms/step - loss: 7.2487 - mae: 7.2487\n",
            "Epoch 38/100\n",
            "1/1 [==============================] - 0s 12ms/step - loss: 7.2431 - mae: 7.2431\n",
            "Epoch 39/100\n",
            "1/1 [==============================] - 0s 12ms/step - loss: 7.2375 - mae: 7.2375\n",
            "Epoch 40/100\n",
            "1/1 [==============================] - 0s 12ms/step - loss: 7.2319 - mae: 7.2319\n",
            "Epoch 41/100\n",
            "1/1 [==============================] - 0s 30ms/step - loss: 7.2263 - mae: 7.2263\n",
            "Epoch 42/100\n",
            "1/1 [==============================] - 0s 39ms/step - loss: 7.2206 - mae: 7.2206\n",
            "Epoch 43/100\n",
            "1/1 [==============================] - 0s 23ms/step - loss: 7.2150 - mae: 7.2150\n",
            "Epoch 44/100\n",
            "1/1 [==============================] - 0s 25ms/step - loss: 7.2094 - mae: 7.2094\n",
            "Epoch 45/100\n",
            "1/1 [==============================] - 0s 17ms/step - loss: 7.2038 - mae: 7.2038\n",
            "Epoch 46/100\n",
            "1/1 [==============================] - 0s 11ms/step - loss: 7.1981 - mae: 7.1981\n",
            "Epoch 47/100\n",
            "1/1 [==============================] - 0s 12ms/step - loss: 7.1925 - mae: 7.1925\n",
            "Epoch 48/100\n",
            "1/1 [==============================] - 0s 9ms/step - loss: 7.1869 - mae: 7.1869\n",
            "Epoch 49/100\n",
            "1/1 [==============================] - 0s 18ms/step - loss: 7.1812 - mae: 7.1812\n",
            "Epoch 50/100\n",
            "1/1 [==============================] - 0s 20ms/step - loss: 7.1756 - mae: 7.1756\n",
            "Epoch 51/100\n",
            "1/1 [==============================] - 0s 16ms/step - loss: 7.1700 - mae: 7.1700\n",
            "Epoch 52/100\n",
            "1/1 [==============================] - 0s 12ms/step - loss: 7.1644 - mae: 7.1644\n",
            "Epoch 53/100\n",
            "1/1 [==============================] - 0s 13ms/step - loss: 7.1587 - mae: 7.1587\n",
            "Epoch 54/100\n",
            "1/1 [==============================] - 0s 14ms/step - loss: 7.1531 - mae: 7.1531\n",
            "Epoch 55/100\n",
            "1/1 [==============================] - 0s 24ms/step - loss: 7.1475 - mae: 7.1475\n",
            "Epoch 56/100\n",
            "1/1 [==============================] - 0s 11ms/step - loss: 7.1419 - mae: 7.1419\n",
            "Epoch 57/100\n",
            "1/1 [==============================] - 0s 28ms/step - loss: 7.1363 - mae: 7.1363\n",
            "Epoch 58/100\n",
            "1/1 [==============================] - 0s 17ms/step - loss: 7.1306 - mae: 7.1306\n",
            "Epoch 59/100\n",
            "1/1 [==============================] - 0s 20ms/step - loss: 7.1250 - mae: 7.1250\n",
            "Epoch 60/100\n",
            "1/1 [==============================] - 0s 21ms/step - loss: 7.1194 - mae: 7.1194\n",
            "Epoch 61/100\n",
            "1/1 [==============================] - 0s 16ms/step - loss: 7.1137 - mae: 7.1137\n",
            "Epoch 62/100\n",
            "1/1 [==============================] - 0s 15ms/step - loss: 7.1081 - mae: 7.1081\n",
            "Epoch 63/100\n",
            "1/1 [==============================] - 0s 14ms/step - loss: 7.1025 - mae: 7.1025\n",
            "Epoch 64/100\n",
            "1/1 [==============================] - 0s 14ms/step - loss: 7.0969 - mae: 7.0969\n",
            "Epoch 65/100\n",
            "1/1 [==============================] - 0s 14ms/step - loss: 7.0913 - mae: 7.0913\n",
            "Epoch 66/100\n",
            "1/1 [==============================] - 0s 14ms/step - loss: 7.0856 - mae: 7.0856\n",
            "Epoch 67/100\n",
            "1/1 [==============================] - 0s 17ms/step - loss: 7.0800 - mae: 7.0800\n",
            "Epoch 68/100\n",
            "1/1 [==============================] - 0s 14ms/step - loss: 7.0744 - mae: 7.0744\n",
            "Epoch 69/100\n",
            "1/1 [==============================] - 0s 16ms/step - loss: 7.0687 - mae: 7.0687\n",
            "Epoch 70/100\n",
            "1/1 [==============================] - 0s 19ms/step - loss: 7.0631 - mae: 7.0631\n",
            "Epoch 71/100\n",
            "1/1 [==============================] - 0s 16ms/step - loss: 7.0575 - mae: 7.0575\n",
            "Epoch 72/100\n",
            "1/1 [==============================] - 0s 17ms/step - loss: 7.0519 - mae: 7.0519\n",
            "Epoch 73/100\n",
            "1/1 [==============================] - 0s 17ms/step - loss: 7.0463 - mae: 7.0463\n",
            "Epoch 74/100\n",
            "1/1 [==============================] - 0s 24ms/step - loss: 7.0406 - mae: 7.0406\n",
            "Epoch 75/100\n",
            "1/1 [==============================] - 0s 11ms/step - loss: 7.0350 - mae: 7.0350\n",
            "Epoch 76/100\n",
            "1/1 [==============================] - 0s 11ms/step - loss: 7.0294 - mae: 7.0294\n",
            "Epoch 77/100\n",
            "1/1 [==============================] - 0s 16ms/step - loss: 7.0238 - mae: 7.0238\n",
            "Epoch 78/100\n",
            "1/1 [==============================] - 0s 16ms/step - loss: 7.0181 - mae: 7.0181\n",
            "Epoch 79/100\n",
            "1/1 [==============================] - 0s 12ms/step - loss: 7.0125 - mae: 7.0125\n",
            "Epoch 80/100\n",
            "1/1 [==============================] - 0s 28ms/step - loss: 7.0069 - mae: 7.0069\n",
            "Epoch 81/100\n",
            "1/1 [==============================] - 0s 15ms/step - loss: 7.0012 - mae: 7.0012\n",
            "Epoch 82/100\n",
            "1/1 [==============================] - 0s 12ms/step - loss: 6.9956 - mae: 6.9956\n",
            "Epoch 83/100\n",
            "1/1 [==============================] - 0s 9ms/step - loss: 6.9900 - mae: 6.9900\n",
            "Epoch 84/100\n",
            "1/1 [==============================] - 0s 11ms/step - loss: 6.9844 - mae: 6.9844\n",
            "Epoch 85/100\n",
            "1/1 [==============================] - 0s 19ms/step - loss: 6.9788 - mae: 6.9788\n",
            "Epoch 86/100\n",
            "1/1 [==============================] - 0s 15ms/step - loss: 6.9731 - mae: 6.9731\n",
            "Epoch 87/100\n",
            "1/1 [==============================] - 0s 10ms/step - loss: 6.9675 - mae: 6.9675\n",
            "Epoch 88/100\n",
            "1/1 [==============================] - 0s 12ms/step - loss: 6.9619 - mae: 6.9619\n",
            "Epoch 89/100\n",
            "1/1 [==============================] - 0s 14ms/step - loss: 6.9563 - mae: 6.9563\n",
            "Epoch 90/100\n",
            "1/1 [==============================] - 0s 15ms/step - loss: 6.9506 - mae: 6.9506\n",
            "Epoch 91/100\n",
            "1/1 [==============================] - 0s 11ms/step - loss: 6.9450 - mae: 6.9450\n",
            "Epoch 92/100\n",
            "1/1 [==============================] - 0s 15ms/step - loss: 6.9394 - mae: 6.9394\n",
            "Epoch 93/100\n",
            "1/1 [==============================] - 0s 11ms/step - loss: 6.9338 - mae: 6.9338\n",
            "Epoch 94/100\n",
            "1/1 [==============================] - 0s 15ms/step - loss: 6.9281 - mae: 6.9281\n",
            "Epoch 95/100\n",
            "1/1 [==============================] - 0s 19ms/step - loss: 6.9225 - mae: 6.9225\n",
            "Epoch 96/100\n",
            "1/1 [==============================] - 0s 16ms/step - loss: 6.9169 - mae: 6.9169\n",
            "Epoch 97/100\n",
            "1/1 [==============================] - 0s 17ms/step - loss: 6.9113 - mae: 6.9113\n",
            "Epoch 98/100\n",
            "1/1 [==============================] - 0s 14ms/step - loss: 6.9056 - mae: 6.9056\n",
            "Epoch 99/100\n",
            "1/1 [==============================] - 0s 17ms/step - loss: 6.9000 - mae: 6.9000\n",
            "Epoch 100/100\n",
            "1/1 [==============================] - 0s 22ms/step - loss: 6.8944 - mae: 6.8944\n"
          ]
        },
        {
          "output_type": "execute_result",
          "data": {
            "text/plain": [
              "<keras.callbacks.History at 0x7f7a98721c10>"
            ]
          },
          "metadata": {},
          "execution_count": 30
        }
      ]
    },
    {
      "cell_type": "code",
      "source": [
        "# Remind ourselves of the data\n",
        "X, y\n"
      ],
      "metadata": {
        "colab": {
          "base_uri": "https://localhost:8080/"
        },
        "id": "xRS991jpvAvR",
        "outputId": "c19012de-fdef-4412-e8b7-58a68e063c58"
      },
      "execution_count": 32,
      "outputs": [
        {
          "output_type": "execute_result",
          "data": {
            "text/plain": [
              "(<tf.Tensor: shape=(8,), dtype=float32, numpy=array([-7., -4., -1.,  2.,  5.,  8., 11., 14.], dtype=float32)>,\n",
              " <tf.Tensor: shape=(8,), dtype=float32, numpy=array([ 3.,  6.,  9., 12., 15., 18., 21., 24.], dtype=float32)>)"
            ]
          },
          "metadata": {},
          "execution_count": 32
        }
      ]
    },
    {
      "cell_type": "code",
      "source": [
        "# Let's see if our model's prediction has improved ...\n",
        "model.predict(tf.constant([17.0]))"
      ],
      "metadata": {
        "colab": {
          "base_uri": "https://localhost:8080/"
        },
        "id": "48AMZ9X1vUXh",
        "outputId": "05739f6e-0c1d-4220-974a-5f110f66745c"
      },
      "execution_count": 33,
      "outputs": [
        {
          "output_type": "stream",
          "name": "stdout",
          "text": [
            "1/1 [==============================] - 0s 31ms/step\n"
          ]
        },
        {
          "output_type": "execute_result",
          "data": {
            "text/plain": [
              "array([[30.18888]], dtype=float32)"
            ]
          },
          "metadata": {},
          "execution_count": 33
        }
      ]
    },
    {
      "cell_type": "code",
      "source": [
        "# 1. Create a model (specified to your problem)\n",
        "model = tf.keras.Sequential([\n",
        "     tf.keras.layers.Dense(100, activation='relu'),\n",
        "     tf.keras.layers.Dense(100, activation='relu'),\n",
        "     tf.keras.layers.Dense(100, activation='relu'),\n",
        "     tf.keras.layers.Dense(1)\n",
        "     ])\n",
        "\n",
        "# 2. compile the model\n",
        "model.compile(loss=tf.keras.losses.mae,\n",
        "              optimizer=tf.keras.optimizers.SGD(),\n",
        "              metrics=['mae'])\n",
        "\n",
        "# 3. fit the model\n",
        "model.fit(tf.expand_dims(X, axis=-1), y, epochs=100)\n"
      ],
      "metadata": {
        "colab": {
          "base_uri": "https://localhost:8080/"
        },
        "id": "P4t8poXyo0Iw",
        "outputId": "d083d101-8c39-45c2-bbe5-342558b26120"
      },
      "execution_count": 34,
      "outputs": [
        {
          "output_type": "stream",
          "name": "stdout",
          "text": [
            "Epoch 1/100\n",
            "1/1 [==============================] - 1s 920ms/step - loss: 13.6282 - mae: 13.6282\n",
            "Epoch 2/100\n",
            "1/1 [==============================] - 0s 12ms/step - loss: 13.3389 - mae: 13.3389\n",
            "Epoch 3/100\n",
            "1/1 [==============================] - 0s 11ms/step - loss: 13.0310 - mae: 13.0310\n",
            "Epoch 4/100\n",
            "1/1 [==============================] - 0s 9ms/step - loss: 12.7389 - mae: 12.7389\n",
            "Epoch 5/100\n",
            "1/1 [==============================] - 0s 11ms/step - loss: 12.4482 - mae: 12.4482\n",
            "Epoch 6/100\n",
            "1/1 [==============================] - 0s 14ms/step - loss: 12.1391 - mae: 12.1391\n",
            "Epoch 7/100\n",
            "1/1 [==============================] - 0s 7ms/step - loss: 11.8039 - mae: 11.8039\n",
            "Epoch 8/100\n",
            "1/1 [==============================] - 0s 8ms/step - loss: 11.4238 - mae: 11.4238\n",
            "Epoch 9/100\n",
            "1/1 [==============================] - 0s 9ms/step - loss: 10.9899 - mae: 10.9899\n",
            "Epoch 10/100\n",
            "1/1 [==============================] - 0s 12ms/step - loss: 10.4790 - mae: 10.4790\n",
            "Epoch 11/100\n",
            "1/1 [==============================] - 0s 11ms/step - loss: 9.9420 - mae: 9.9420\n",
            "Epoch 12/100\n",
            "1/1 [==============================] - 0s 9ms/step - loss: 9.3255 - mae: 9.3255\n",
            "Epoch 13/100\n",
            "1/1 [==============================] - 0s 9ms/step - loss: 8.5314 - mae: 8.5314\n",
            "Epoch 14/100\n",
            "1/1 [==============================] - 0s 9ms/step - loss: 7.4995 - mae: 7.4995\n",
            "Epoch 15/100\n",
            "1/1 [==============================] - 0s 9ms/step - loss: 6.0840 - mae: 6.0840\n",
            "Epoch 16/100\n",
            "1/1 [==============================] - 0s 9ms/step - loss: 4.1648 - mae: 4.1648\n",
            "Epoch 17/100\n",
            "1/1 [==============================] - 0s 10ms/step - loss: 3.9216 - mae: 3.9216\n",
            "Epoch 18/100\n",
            "1/1 [==============================] - 0s 10ms/step - loss: 4.0524 - mae: 4.0524\n",
            "Epoch 19/100\n",
            "1/1 [==============================] - 0s 9ms/step - loss: 3.8722 - mae: 3.8722\n",
            "Epoch 20/100\n",
            "1/1 [==============================] - 0s 9ms/step - loss: 4.0657 - mae: 4.0657\n",
            "Epoch 21/100\n",
            "1/1 [==============================] - 0s 9ms/step - loss: 3.8637 - mae: 3.8637\n",
            "Epoch 22/100\n",
            "1/1 [==============================] - 0s 10ms/step - loss: 4.0231 - mae: 4.0231\n",
            "Epoch 23/100\n",
            "1/1 [==============================] - 0s 9ms/step - loss: 3.8777 - mae: 3.8777\n",
            "Epoch 24/100\n",
            "1/1 [==============================] - 0s 8ms/step - loss: 3.9724 - mae: 3.9724\n",
            "Epoch 25/100\n",
            "1/1 [==============================] - 0s 9ms/step - loss: 3.8928 - mae: 3.8928\n",
            "Epoch 26/100\n",
            "1/1 [==============================] - 0s 8ms/step - loss: 3.9194 - mae: 3.9194\n",
            "Epoch 27/100\n",
            "1/1 [==============================] - 0s 9ms/step - loss: 3.9082 - mae: 3.9082\n",
            "Epoch 28/100\n",
            "1/1 [==============================] - 0s 8ms/step - loss: 3.8644 - mae: 3.8644\n",
            "Epoch 29/100\n",
            "1/1 [==============================] - 0s 9ms/step - loss: 3.9246 - mae: 3.9246\n",
            "Epoch 30/100\n",
            "1/1 [==============================] - 0s 9ms/step - loss: 3.8072 - mae: 3.8072\n",
            "Epoch 31/100\n",
            "1/1 [==============================] - 0s 9ms/step - loss: 3.9425 - mae: 3.9425\n",
            "Epoch 32/100\n",
            "1/1 [==============================] - 0s 10ms/step - loss: 3.7494 - mae: 3.7494\n",
            "Epoch 33/100\n",
            "1/1 [==============================] - 0s 9ms/step - loss: 3.9493 - mae: 3.9493\n",
            "Epoch 34/100\n",
            "1/1 [==============================] - 0s 9ms/step - loss: 3.7671 - mae: 3.7671\n",
            "Epoch 35/100\n",
            "1/1 [==============================] - 0s 9ms/step - loss: 3.8922 - mae: 3.8922\n",
            "Epoch 36/100\n",
            "1/1 [==============================] - 0s 10ms/step - loss: 3.7859 - mae: 3.7859\n",
            "Epoch 37/100\n",
            "1/1 [==============================] - 0s 9ms/step - loss: 3.8335 - mae: 3.8335\n",
            "Epoch 38/100\n",
            "1/1 [==============================] - 0s 9ms/step - loss: 3.8057 - mae: 3.8057\n",
            "Epoch 39/100\n",
            "1/1 [==============================] - 0s 9ms/step - loss: 3.7819 - mae: 3.7819\n",
            "Epoch 40/100\n",
            "1/1 [==============================] - 0s 10ms/step - loss: 3.8574 - mae: 3.8574\n",
            "Epoch 41/100\n",
            "1/1 [==============================] - 0s 11ms/step - loss: 3.7013 - mae: 3.7013\n",
            "Epoch 42/100\n",
            "1/1 [==============================] - 0s 9ms/step - loss: 3.8786 - mae: 3.8786\n",
            "Epoch 43/100\n",
            "1/1 [==============================] - 0s 10ms/step - loss: 3.6886 - mae: 3.6886\n",
            "Epoch 44/100\n",
            "1/1 [==============================] - 0s 10ms/step - loss: 3.8366 - mae: 3.8366\n",
            "Epoch 45/100\n",
            "1/1 [==============================] - 0s 9ms/step - loss: 3.7097 - mae: 3.7097\n",
            "Epoch 46/100\n",
            "1/1 [==============================] - 0s 9ms/step - loss: 3.7725 - mae: 3.7725\n",
            "Epoch 47/100\n",
            "1/1 [==============================] - 0s 11ms/step - loss: 3.7317 - mae: 3.7317\n",
            "Epoch 48/100\n",
            "1/1 [==============================] - 0s 6ms/step - loss: 3.7125 - mae: 3.7125\n",
            "Epoch 49/100\n",
            "1/1 [==============================] - 0s 10ms/step - loss: 3.7856 - mae: 3.7856\n",
            "Epoch 50/100\n",
            "1/1 [==============================] - 0s 8ms/step - loss: 3.6276 - mae: 3.6276\n",
            "Epoch 51/100\n",
            "1/1 [==============================] - 0s 8ms/step - loss: 3.8078 - mae: 3.8078\n",
            "Epoch 52/100\n",
            "1/1 [==============================] - 0s 9ms/step - loss: 3.6213 - mae: 3.6213\n",
            "Epoch 53/100\n",
            "1/1 [==============================] - 0s 8ms/step - loss: 3.7537 - mae: 3.7537\n",
            "Epoch 54/100\n",
            "1/1 [==============================] - 0s 9ms/step - loss: 3.6457 - mae: 3.6457\n",
            "Epoch 55/100\n",
            "1/1 [==============================] - 0s 9ms/step - loss: 3.6827 - mae: 3.6827\n",
            "Epoch 56/100\n",
            "1/1 [==============================] - 0s 9ms/step - loss: 3.6697 - mae: 3.6697\n",
            "Epoch 57/100\n",
            "1/1 [==============================] - 0s 9ms/step - loss: 3.6115 - mae: 3.6115\n",
            "Epoch 58/100\n",
            "1/1 [==============================] - 0s 9ms/step - loss: 3.6970 - mae: 3.6970\n",
            "Epoch 59/100\n",
            "1/1 [==============================] - 0s 9ms/step - loss: 3.5507 - mae: 3.5507\n",
            "Epoch 60/100\n",
            "1/1 [==============================] - 0s 8ms/step - loss: 3.7576 - mae: 3.7576\n",
            "Epoch 61/100\n",
            "1/1 [==============================] - 0s 9ms/step - loss: 3.5730 - mae: 3.5730\n",
            "Epoch 62/100\n",
            "1/1 [==============================] - 0s 9ms/step - loss: 3.6504 - mae: 3.6504\n",
            "Epoch 63/100\n",
            "1/1 [==============================] - 0s 10ms/step - loss: 3.5984 - mae: 3.5984\n",
            "Epoch 64/100\n",
            "1/1 [==============================] - 0s 8ms/step - loss: 3.5750 - mae: 3.5750\n",
            "Epoch 65/100\n",
            "1/1 [==============================] - 0s 10ms/step - loss: 3.6257 - mae: 3.6257\n",
            "Epoch 66/100\n",
            "1/1 [==============================] - 0s 13ms/step - loss: 3.4970 - mae: 3.4970\n",
            "Epoch 67/100\n",
            "1/1 [==============================] - 0s 11ms/step - loss: 3.6548 - mae: 3.6548\n",
            "Epoch 68/100\n",
            "1/1 [==============================] - 0s 9ms/step - loss: 3.4813 - mae: 3.4813\n",
            "Epoch 69/100\n",
            "1/1 [==============================] - 0s 9ms/step - loss: 3.6026 - mae: 3.6026\n",
            "Epoch 70/100\n",
            "1/1 [==============================] - 0s 10ms/step - loss: 3.5392 - mae: 3.5392\n",
            "Epoch 71/100\n",
            "1/1 [==============================] - 0s 10ms/step - loss: 3.5214 - mae: 3.5214\n",
            "Epoch 72/100\n",
            "1/1 [==============================] - 0s 9ms/step - loss: 3.5673 - mae: 3.5673\n",
            "Epoch 73/100\n",
            "1/1 [==============================] - 0s 9ms/step - loss: 3.4379 - mae: 3.4379\n",
            "Epoch 74/100\n",
            "1/1 [==============================] - 0s 9ms/step - loss: 3.5979 - mae: 3.5979\n",
            "Epoch 75/100\n",
            "1/1 [==============================] - 0s 9ms/step - loss: 3.4237 - mae: 3.4237\n",
            "Epoch 76/100\n",
            "1/1 [==============================] - 0s 9ms/step - loss: 3.5461 - mae: 3.5461\n",
            "Epoch 77/100\n",
            "1/1 [==============================] - 0s 9ms/step - loss: 3.4536 - mae: 3.4536\n",
            "Epoch 78/100\n",
            "1/1 [==============================] - 0s 9ms/step - loss: 3.4787 - mae: 3.4787\n",
            "Epoch 79/100\n",
            "1/1 [==============================] - 0s 9ms/step - loss: 3.5206 - mae: 3.5206\n",
            "Epoch 80/100\n",
            "1/1 [==============================] - 0s 8ms/step - loss: 3.3654 - mae: 3.3654\n",
            "Epoch 81/100\n",
            "1/1 [==============================] - 0s 9ms/step - loss: 3.5523 - mae: 3.5523\n",
            "Epoch 82/100\n",
            "1/1 [==============================] - 0s 9ms/step - loss: 3.3785 - mae: 3.3785\n",
            "Epoch 83/100\n",
            "1/1 [==============================] - 0s 9ms/step - loss: 3.4692 - mae: 3.4692\n",
            "Epoch 84/100\n",
            "1/1 [==============================] - 0s 11ms/step - loss: 3.4091 - mae: 3.4091\n",
            "Epoch 85/100\n",
            "1/1 [==============================] - 0s 9ms/step - loss: 3.3800 - mae: 3.3800\n",
            "Epoch 86/100\n",
            "1/1 [==============================] - 0s 15ms/step - loss: 3.4421 - mae: 3.4421\n",
            "Epoch 87/100\n",
            "1/1 [==============================] - 0s 10ms/step - loss: 3.2906 - mae: 3.2906\n",
            "Epoch 88/100\n",
            "1/1 [==============================] - 0s 10ms/step - loss: 3.5109 - mae: 3.5109\n",
            "Epoch 89/100\n",
            "1/1 [==============================] - 0s 9ms/step - loss: 3.3373 - mae: 3.3373\n",
            "Epoch 90/100\n",
            "1/1 [==============================] - 0s 9ms/step - loss: 3.3739 - mae: 3.3739\n",
            "Epoch 91/100\n",
            "1/1 [==============================] - 0s 9ms/step - loss: 3.3686 - mae: 3.3686\n",
            "Epoch 92/100\n",
            "1/1 [==============================] - 0s 9ms/step - loss: 3.2762 - mae: 3.2762\n",
            "Epoch 93/100\n",
            "1/1 [==============================] - 0s 10ms/step - loss: 3.4026 - mae: 3.4026\n",
            "Epoch 94/100\n",
            "1/1 [==============================] - 0s 9ms/step - loss: 3.2373 - mae: 3.2373\n",
            "Epoch 95/100\n",
            "1/1 [==============================] - 0s 9ms/step - loss: 3.3649 - mae: 3.3649\n",
            "Epoch 96/100\n",
            "1/1 [==============================] - 0s 12ms/step - loss: 3.2721 - mae: 3.2721\n",
            "Epoch 97/100\n",
            "1/1 [==============================] - 0s 9ms/step - loss: 3.2763 - mae: 3.2763\n",
            "Epoch 98/100\n",
            "1/1 [==============================] - 0s 10ms/step - loss: 3.3438 - mae: 3.3438\n",
            "Epoch 99/100\n",
            "1/1 [==============================] - 0s 8ms/step - loss: 3.1811 - mae: 3.1811\n",
            "Epoch 100/100\n",
            "1/1 [==============================] - 0s 8ms/step - loss: 3.3417 - mae: 3.3417\n"
          ]
        },
        {
          "output_type": "execute_result",
          "data": {
            "text/plain": [
              "<keras.callbacks.History at 0x7f7a98254c40>"
            ]
          },
          "metadata": {},
          "execution_count": 34
        }
      ]
    },
    {
      "cell_type": "code",
      "source": [
        "# let's predict our model output\n",
        "model.predict(tf.constant([17.0]))"
      ],
      "metadata": {
        "colab": {
          "base_uri": "https://localhost:8080/"
        },
        "id": "Np9_kZPRwOTM",
        "outputId": "25349f6d-b374-4308-c23b-c9494736e96c"
      },
      "execution_count": 35,
      "outputs": [
        {
          "output_type": "stream",
          "name": "stdout",
          "text": [
            "1/1 [==============================] - 0s 61ms/step\n"
          ]
        },
        {
          "output_type": "execute_result",
          "data": {
            "text/plain": [
              "array([[32.232002]], dtype=float32)"
            ]
          },
          "metadata": {},
          "execution_count": 35
        }
      ]
    },
    {
      "cell_type": "code",
      "source": [
        " # 1. Create a model (specified to your problem)\n",
        "model = tf.keras.Sequential([\n",
        "     tf.keras.layers.Dense(100, activation='relu'),\n",
        "     tf.keras.layers.Dense(100, activation='relu'),\n",
        "     tf.keras.layers.Dense(100, activation='relu'),\n",
        "     tf.keras.layers.Dense(1)\n",
        "     ])\n",
        "\n",
        "# 2. compile the model\n",
        "model.compile(loss=tf.keras.losses.mae,\n",
        "              optimizer=tf.keras.optimizers.Adam(),\n",
        "              metrics=['mae'])\n",
        "\n",
        "# 3. fit the model\n",
        "model.fit(tf.expand_dims(X, axis=-1), y, epochs=100)\n"
      ],
      "metadata": {
        "colab": {
          "base_uri": "https://localhost:8080/"
        },
        "id": "SUen0D3bwJiB",
        "outputId": "00b22127-33dd-4030-9359-75a34bc294e6"
      },
      "execution_count": 36,
      "outputs": [
        {
          "output_type": "stream",
          "name": "stdout",
          "text": [
            "Epoch 1/100\n",
            "1/1 [==============================] - 1s 1s/step - loss: 13.7613 - mae: 13.7613\n",
            "Epoch 2/100\n",
            "1/1 [==============================] - 0s 12ms/step - loss: 13.3995 - mae: 13.3995\n",
            "Epoch 3/100\n",
            "1/1 [==============================] - 0s 19ms/step - loss: 13.0587 - mae: 13.0587\n",
            "Epoch 4/100\n",
            "1/1 [==============================] - 0s 10ms/step - loss: 12.7472 - mae: 12.7472\n",
            "Epoch 5/100\n",
            "1/1 [==============================] - 0s 10ms/step - loss: 12.4497 - mae: 12.4497\n",
            "Epoch 6/100\n",
            "1/1 [==============================] - 0s 10ms/step - loss: 12.1488 - mae: 12.1488\n",
            "Epoch 7/100\n",
            "1/1 [==============================] - 0s 9ms/step - loss: 11.8443 - mae: 11.8443\n",
            "Epoch 8/100\n",
            "1/1 [==============================] - 0s 9ms/step - loss: 11.5351 - mae: 11.5351\n",
            "Epoch 9/100\n",
            "1/1 [==============================] - 0s 10ms/step - loss: 11.2220 - mae: 11.2220\n",
            "Epoch 10/100\n",
            "1/1 [==============================] - 0s 10ms/step - loss: 10.8965 - mae: 10.8965\n",
            "Epoch 11/100\n",
            "1/1 [==============================] - 0s 9ms/step - loss: 10.5563 - mae: 10.5563\n",
            "Epoch 12/100\n",
            "1/1 [==============================] - 0s 10ms/step - loss: 10.2029 - mae: 10.2029\n",
            "Epoch 13/100\n",
            "1/1 [==============================] - 0s 9ms/step - loss: 9.8932 - mae: 9.8932\n",
            "Epoch 14/100\n",
            "1/1 [==============================] - 0s 9ms/step - loss: 9.5922 - mae: 9.5922\n",
            "Epoch 15/100\n",
            "1/1 [==============================] - 0s 10ms/step - loss: 9.2728 - mae: 9.2728\n",
            "Epoch 16/100\n",
            "1/1 [==============================] - 0s 9ms/step - loss: 8.9308 - mae: 8.9308\n",
            "Epoch 17/100\n",
            "1/1 [==============================] - 0s 10ms/step - loss: 8.5656 - mae: 8.5656\n",
            "Epoch 18/100\n",
            "1/1 [==============================] - 0s 11ms/step - loss: 8.1702 - mae: 8.1702\n",
            "Epoch 19/100\n",
            "1/1 [==============================] - 0s 10ms/step - loss: 7.7437 - mae: 7.7437\n",
            "Epoch 20/100\n",
            "1/1 [==============================] - 0s 9ms/step - loss: 7.2848 - mae: 7.2848\n",
            "Epoch 21/100\n",
            "1/1 [==============================] - 0s 10ms/step - loss: 6.7954 - mae: 6.7954\n",
            "Epoch 22/100\n",
            "1/1 [==============================] - 0s 10ms/step - loss: 6.2697 - mae: 6.2697\n",
            "Epoch 23/100\n",
            "1/1 [==============================] - 0s 10ms/step - loss: 5.7053 - mae: 5.7053\n",
            "Epoch 24/100\n",
            "1/1 [==============================] - 0s 10ms/step - loss: 5.1001 - mae: 5.1001\n",
            "Epoch 25/100\n",
            "1/1 [==============================] - 0s 10ms/step - loss: 4.4515 - mae: 4.4515\n",
            "Epoch 26/100\n",
            "1/1 [==============================] - 0s 10ms/step - loss: 4.0657 - mae: 4.0657\n",
            "Epoch 27/100\n",
            "1/1 [==============================] - 0s 10ms/step - loss: 3.9606 - mae: 3.9606\n",
            "Epoch 28/100\n",
            "1/1 [==============================] - 0s 10ms/step - loss: 4.1031 - mae: 4.1031\n",
            "Epoch 29/100\n",
            "1/1 [==============================] - 0s 10ms/step - loss: 4.2276 - mae: 4.2276\n",
            "Epoch 30/100\n",
            "1/1 [==============================] - 0s 11ms/step - loss: 4.4434 - mae: 4.4434\n",
            "Epoch 31/100\n",
            "1/1 [==============================] - 0s 8ms/step - loss: 4.6433 - mae: 4.6433\n",
            "Epoch 32/100\n",
            "1/1 [==============================] - 0s 12ms/step - loss: 4.7493 - mae: 4.7493\n",
            "Epoch 33/100\n",
            "1/1 [==============================] - 0s 10ms/step - loss: 4.7734 - mae: 4.7734\n",
            "Epoch 34/100\n",
            "1/1 [==============================] - 0s 9ms/step - loss: 4.7269 - mae: 4.7269\n",
            "Epoch 35/100\n",
            "1/1 [==============================] - 0s 10ms/step - loss: 4.6203 - mae: 4.6203\n",
            "Epoch 36/100\n",
            "1/1 [==============================] - 0s 9ms/step - loss: 4.4630 - mae: 4.4630\n",
            "Epoch 37/100\n",
            "1/1 [==============================] - 0s 9ms/step - loss: 4.2646 - mae: 4.2646\n",
            "Epoch 38/100\n",
            "1/1 [==============================] - 0s 10ms/step - loss: 4.1271 - mae: 4.1271\n",
            "Epoch 39/100\n",
            "1/1 [==============================] - 0s 10ms/step - loss: 4.0372 - mae: 4.0372\n",
            "Epoch 40/100\n",
            "1/1 [==============================] - 0s 9ms/step - loss: 3.9492 - mae: 3.9492\n",
            "Epoch 41/100\n",
            "1/1 [==============================] - 0s 12ms/step - loss: 3.8621 - mae: 3.8621\n",
            "Epoch 42/100\n",
            "1/1 [==============================] - 0s 12ms/step - loss: 3.7780 - mae: 3.7780\n",
            "Epoch 43/100\n",
            "1/1 [==============================] - 0s 14ms/step - loss: 3.8396 - mae: 3.8396\n",
            "Epoch 44/100\n",
            "1/1 [==============================] - 0s 13ms/step - loss: 3.9035 - mae: 3.9035\n",
            "Epoch 45/100\n",
            "1/1 [==============================] - 0s 10ms/step - loss: 3.9482 - mae: 3.9482\n",
            "Epoch 46/100\n",
            "1/1 [==============================] - 0s 10ms/step - loss: 3.9754 - mae: 3.9754\n",
            "Epoch 47/100\n",
            "1/1 [==============================] - 0s 11ms/step - loss: 3.9882 - mae: 3.9882\n",
            "Epoch 48/100\n",
            "1/1 [==============================] - 0s 10ms/step - loss: 3.9881 - mae: 3.9881\n",
            "Epoch 49/100\n",
            "1/1 [==============================] - 0s 11ms/step - loss: 3.9764 - mae: 3.9764\n",
            "Epoch 50/100\n",
            "1/1 [==============================] - 0s 9ms/step - loss: 3.9535 - mae: 3.9535\n",
            "Epoch 51/100\n",
            "1/1 [==============================] - 0s 9ms/step - loss: 3.9205 - mae: 3.9205\n",
            "Epoch 52/100\n",
            "1/1 [==============================] - 0s 9ms/step - loss: 3.8783 - mae: 3.8783\n",
            "Epoch 53/100\n",
            "1/1 [==============================] - 0s 9ms/step - loss: 3.8271 - mae: 3.8271\n",
            "Epoch 54/100\n",
            "1/1 [==============================] - 0s 9ms/step - loss: 3.7672 - mae: 3.7672\n",
            "Epoch 55/100\n",
            "1/1 [==============================] - 0s 9ms/step - loss: 3.6986 - mae: 3.6986\n",
            "Epoch 56/100\n",
            "1/1 [==============================] - 0s 10ms/step - loss: 3.6219 - mae: 3.6219\n",
            "Epoch 57/100\n",
            "1/1 [==============================] - 0s 11ms/step - loss: 3.6603 - mae: 3.6603\n",
            "Epoch 58/100\n",
            "1/1 [==============================] - 0s 9ms/step - loss: 3.6918 - mae: 3.6918\n",
            "Epoch 59/100\n",
            "1/1 [==============================] - 0s 10ms/step - loss: 3.7150 - mae: 3.7150\n",
            "Epoch 60/100\n",
            "1/1 [==============================] - 0s 11ms/step - loss: 3.7273 - mae: 3.7273\n",
            "Epoch 61/100\n",
            "1/1 [==============================] - 0s 9ms/step - loss: 3.7294 - mae: 3.7294\n",
            "Epoch 62/100\n",
            "1/1 [==============================] - 0s 8ms/step - loss: 3.7227 - mae: 3.7227\n",
            "Epoch 63/100\n",
            "1/1 [==============================] - 0s 10ms/step - loss: 3.7118 - mae: 3.7118\n",
            "Epoch 64/100\n",
            "1/1 [==============================] - 0s 9ms/step - loss: 3.6882 - mae: 3.6882\n",
            "Epoch 65/100\n",
            "1/1 [==============================] - 0s 9ms/step - loss: 3.6618 - mae: 3.6618\n",
            "Epoch 66/100\n",
            "1/1 [==============================] - 0s 9ms/step - loss: 3.6270 - mae: 3.6270\n",
            "Epoch 67/100\n",
            "1/1 [==============================] - 0s 9ms/step - loss: 3.5915 - mae: 3.5915\n",
            "Epoch 68/100\n",
            "1/1 [==============================] - 0s 9ms/step - loss: 3.5487 - mae: 3.5487\n",
            "Epoch 69/100\n",
            "1/1 [==============================] - 0s 10ms/step - loss: 3.5020 - mae: 3.5020\n",
            "Epoch 70/100\n",
            "1/1 [==============================] - 0s 9ms/step - loss: 3.5226 - mae: 3.5226\n",
            "Epoch 71/100\n",
            "1/1 [==============================] - 0s 9ms/step - loss: 3.5434 - mae: 3.5434\n",
            "Epoch 72/100\n",
            "1/1 [==============================] - 0s 9ms/step - loss: 3.5438 - mae: 3.5438\n",
            "Epoch 73/100\n",
            "1/1 [==============================] - 0s 10ms/step - loss: 3.5176 - mae: 3.5176\n",
            "Epoch 74/100\n",
            "1/1 [==============================] - 0s 17ms/step - loss: 3.4779 - mae: 3.4779\n",
            "Epoch 75/100\n",
            "1/1 [==============================] - 0s 10ms/step - loss: 3.4201 - mae: 3.4201\n",
            "Epoch 76/100\n",
            "1/1 [==============================] - 0s 9ms/step - loss: 3.4381 - mae: 3.4381\n",
            "Epoch 77/100\n",
            "1/1 [==============================] - 0s 10ms/step - loss: 3.4521 - mae: 3.4521\n",
            "Epoch 78/100\n",
            "1/1 [==============================] - 0s 11ms/step - loss: 3.4528 - mae: 3.4528\n",
            "Epoch 79/100\n",
            "1/1 [==============================] - 0s 9ms/step - loss: 3.4424 - mae: 3.4424\n",
            "Epoch 80/100\n",
            "1/1 [==============================] - 0s 9ms/step - loss: 3.4198 - mae: 3.4198\n",
            "Epoch 81/100\n",
            "1/1 [==============================] - 0s 9ms/step - loss: 3.3907 - mae: 3.3907\n",
            "Epoch 82/100\n",
            "1/1 [==============================] - 0s 9ms/step - loss: 3.3506 - mae: 3.3506\n",
            "Epoch 83/100\n",
            "1/1 [==============================] - 0s 9ms/step - loss: 3.3061 - mae: 3.3061\n",
            "Epoch 84/100\n",
            "1/1 [==============================] - 0s 9ms/step - loss: 3.2916 - mae: 3.2916\n",
            "Epoch 85/100\n",
            "1/1 [==============================] - 0s 9ms/step - loss: 3.2937 - mae: 3.2937\n",
            "Epoch 86/100\n",
            "1/1 [==============================] - 0s 10ms/step - loss: 3.2675 - mae: 3.2675\n",
            "Epoch 87/100\n",
            "1/1 [==============================] - 0s 9ms/step - loss: 3.2125 - mae: 3.2125\n",
            "Epoch 88/100\n",
            "1/1 [==============================] - 0s 9ms/step - loss: 3.2160 - mae: 3.2160\n",
            "Epoch 89/100\n",
            "1/1 [==============================] - 0s 9ms/step - loss: 3.2192 - mae: 3.2192\n",
            "Epoch 90/100\n",
            "1/1 [==============================] - 0s 9ms/step - loss: 3.2081 - mae: 3.2081\n",
            "Epoch 91/100\n",
            "1/1 [==============================] - 0s 9ms/step - loss: 3.1838 - mae: 3.1838\n",
            "Epoch 92/100\n",
            "1/1 [==============================] - 0s 11ms/step - loss: 3.1489 - mae: 3.1489\n",
            "Epoch 93/100\n",
            "1/1 [==============================] - 0s 9ms/step - loss: 3.1074 - mae: 3.1074\n",
            "Epoch 94/100\n",
            "1/1 [==============================] - 0s 10ms/step - loss: 3.0554 - mae: 3.0554\n",
            "Epoch 95/100\n",
            "1/1 [==============================] - 0s 9ms/step - loss: 3.0770 - mae: 3.0770\n",
            "Epoch 96/100\n",
            "1/1 [==============================] - 0s 9ms/step - loss: 3.0721 - mae: 3.0721\n",
            "Epoch 97/100\n",
            "1/1 [==============================] - 0s 10ms/step - loss: 3.0301 - mae: 3.0301\n",
            "Epoch 98/100\n",
            "1/1 [==============================] - 0s 10ms/step - loss: 2.9588 - mae: 2.9588\n",
            "Epoch 99/100\n",
            "1/1 [==============================] - 0s 9ms/step - loss: 2.9612 - mae: 2.9612\n",
            "Epoch 100/100\n",
            "1/1 [==============================] - 0s 9ms/step - loss: 2.9576 - mae: 2.9576\n"
          ]
        },
        {
          "output_type": "execute_result",
          "data": {
            "text/plain": [
              "<keras.callbacks.History at 0x7f7a8bf85400>"
            ]
          },
          "metadata": {},
          "execution_count": 36
        }
      ]
    },
    {
      "cell_type": "code",
      "source": [
        "# let's predict our model output\n",
        "model.predict(tf.constant([17.0]))"
      ],
      "metadata": {
        "colab": {
          "base_uri": "https://localhost:8080/"
        },
        "id": "2CJALPtCwjSI",
        "outputId": "4d665e5e-914b-4131-f1b5-28d4a04f901e"
      },
      "execution_count": 37,
      "outputs": [
        {
          "output_type": "stream",
          "name": "stdout",
          "text": [
            "1/1 [==============================] - 0s 324ms/step\n"
          ]
        },
        {
          "output_type": "execute_result",
          "data": {
            "text/plain": [
              "array([[32.23548]], dtype=float32)"
            ]
          },
          "metadata": {},
          "execution_count": 37
        }
      ]
    },
    {
      "cell_type": "code",
      "source": [
        " # 1. Create a model (specified to your problem)\n",
        "model = tf.keras.Sequential([\n",
        "     tf.keras.layers.Dense(100, activation='relu'),\n",
        "     tf.keras.layers.Dense(100, activation='relu'),\n",
        "     tf.keras.layers.Dense(100, activation='relu'),\n",
        "     tf.keras.layers.Dense(1)\n",
        "     ])\n",
        "\n",
        "# 2. compile the model\n",
        "model.compile(loss=tf.keras.losses.mae,\n",
        "              optimizer=tf.keras.optimizers.Adam(lr=0.0001),\n",
        "              metrics=['mae'])\n",
        "\n",
        "# 3. fit the model\n",
        "model.fit(tf.expand_dims(X, axis=-1), y, epochs=200)\n"
      ],
      "metadata": {
        "colab": {
          "base_uri": "https://localhost:8080/"
        },
        "id": "YyQt7393wn_r",
        "outputId": "d695ef1f-b3c9-4f94-9f62-811eb8052a4b"
      },
      "execution_count": 41,
      "outputs": [
        {
          "output_type": "stream",
          "name": "stderr",
          "text": [
            "WARNING:absl:`lr` is deprecated in Keras optimizer, please use `learning_rate` or use the legacy optimizer, e.g.,tf.keras.optimizers.legacy.Adam.\n"
          ]
        },
        {
          "output_type": "stream",
          "name": "stdout",
          "text": [
            "Epoch 1/200\n",
            "1/1 [==============================] - 1s 1s/step - loss: 13.4357 - mae: 13.4357\n",
            "Epoch 2/200\n",
            "1/1 [==============================] - 0s 16ms/step - loss: 13.0238 - mae: 13.0238\n",
            "Epoch 3/200\n",
            "1/1 [==============================] - 0s 11ms/step - loss: 12.6418 - mae: 12.6418\n",
            "Epoch 4/200\n",
            "1/1 [==============================] - 0s 14ms/step - loss: 12.2763 - mae: 12.2763\n",
            "Epoch 5/200\n",
            "1/1 [==============================] - 0s 12ms/step - loss: 11.9152 - mae: 11.9152\n",
            "Epoch 6/200\n",
            "1/1 [==============================] - 0s 11ms/step - loss: 11.5825 - mae: 11.5825\n",
            "Epoch 7/200\n",
            "1/1 [==============================] - 0s 11ms/step - loss: 11.2541 - mae: 11.2541\n",
            "Epoch 8/200\n",
            "1/1 [==============================] - 0s 9ms/step - loss: 10.9356 - mae: 10.9356\n",
            "Epoch 9/200\n",
            "1/1 [==============================] - 0s 9ms/step - loss: 10.6035 - mae: 10.6035\n",
            "Epoch 10/200\n",
            "1/1 [==============================] - 0s 10ms/step - loss: 10.2468 - mae: 10.2468\n",
            "Epoch 11/200\n",
            "1/1 [==============================] - 0s 9ms/step - loss: 9.9246 - mae: 9.9246\n",
            "Epoch 12/200\n",
            "1/1 [==============================] - 0s 10ms/step - loss: 9.6100 - mae: 9.6100\n",
            "Epoch 13/200\n",
            "1/1 [==============================] - 0s 10ms/step - loss: 9.2711 - mae: 9.2711\n",
            "Epoch 14/200\n",
            "1/1 [==============================] - 0s 11ms/step - loss: 8.9002 - mae: 8.9002\n",
            "Epoch 15/200\n",
            "1/1 [==============================] - 0s 8ms/step - loss: 8.4967 - mae: 8.4967\n",
            "Epoch 16/200\n",
            "1/1 [==============================] - 0s 13ms/step - loss: 8.0609 - mae: 8.0609\n",
            "Epoch 17/200\n",
            "1/1 [==============================] - 0s 14ms/step - loss: 7.5916 - mae: 7.5916\n",
            "Epoch 18/200\n",
            "1/1 [==============================] - 0s 11ms/step - loss: 7.0897 - mae: 7.0897\n",
            "Epoch 19/200\n",
            "1/1 [==============================] - 0s 11ms/step - loss: 6.5479 - mae: 6.5479\n",
            "Epoch 20/200\n",
            "1/1 [==============================] - 0s 14ms/step - loss: 5.9591 - mae: 5.9591\n",
            "Epoch 21/200\n",
            "1/1 [==============================] - 0s 15ms/step - loss: 5.3253 - mae: 5.3253\n",
            "Epoch 22/200\n",
            "1/1 [==============================] - 0s 13ms/step - loss: 4.6439 - mae: 4.6439\n",
            "Epoch 23/200\n",
            "1/1 [==============================] - 0s 10ms/step - loss: 4.1202 - mae: 4.1202\n",
            "Epoch 24/200\n",
            "1/1 [==============================] - 0s 14ms/step - loss: 3.9360 - mae: 3.9360\n",
            "Epoch 25/200\n",
            "1/1 [==============================] - 0s 12ms/step - loss: 4.0864 - mae: 4.0864\n",
            "Epoch 26/200\n",
            "1/1 [==============================] - 0s 15ms/step - loss: 4.2169 - mae: 4.2169\n",
            "Epoch 27/200\n",
            "1/1 [==============================] - 0s 11ms/step - loss: 4.4111 - mae: 4.4111\n",
            "Epoch 28/200\n",
            "1/1 [==============================] - 0s 13ms/step - loss: 4.6153 - mae: 4.6153\n",
            "Epoch 29/200\n",
            "1/1 [==============================] - 0s 10ms/step - loss: 4.7232 - mae: 4.7232\n",
            "Epoch 30/200\n",
            "1/1 [==============================] - 0s 10ms/step - loss: 4.7441 - mae: 4.7441\n",
            "Epoch 31/200\n",
            "1/1 [==============================] - 0s 11ms/step - loss: 4.6920 - mae: 4.6920\n",
            "Epoch 32/200\n",
            "1/1 [==============================] - 0s 10ms/step - loss: 4.5768 - mae: 4.5768\n",
            "Epoch 33/200\n",
            "1/1 [==============================] - 0s 10ms/step - loss: 4.4099 - mae: 4.4099\n",
            "Epoch 34/200\n",
            "1/1 [==============================] - 0s 11ms/step - loss: 4.2040 - mae: 4.2040\n",
            "Epoch 35/200\n",
            "1/1 [==============================] - 0s 10ms/step - loss: 4.1202 - mae: 4.1202\n",
            "Epoch 36/200\n",
            "1/1 [==============================] - 0s 10ms/step - loss: 4.0367 - mae: 4.0367\n",
            "Epoch 37/200\n",
            "1/1 [==============================] - 0s 10ms/step - loss: 3.9533 - mae: 3.9533\n",
            "Epoch 38/200\n",
            "1/1 [==============================] - 0s 10ms/step - loss: 3.8701 - mae: 3.8701\n",
            "Epoch 39/200\n",
            "1/1 [==============================] - 0s 10ms/step - loss: 3.7879 - mae: 3.7879\n",
            "Epoch 40/200\n",
            "1/1 [==============================] - 0s 11ms/step - loss: 3.8511 - mae: 3.8511\n",
            "Epoch 41/200\n",
            "1/1 [==============================] - 0s 11ms/step - loss: 3.9084 - mae: 3.9084\n",
            "Epoch 42/200\n",
            "1/1 [==============================] - 0s 11ms/step - loss: 3.9454 - mae: 3.9454\n",
            "Epoch 43/200\n",
            "1/1 [==============================] - 0s 10ms/step - loss: 3.9640 - mae: 3.9640\n",
            "Epoch 44/200\n",
            "1/1 [==============================] - 0s 11ms/step - loss: 3.9650 - mae: 3.9650\n",
            "Epoch 45/200\n",
            "1/1 [==============================] - 0s 11ms/step - loss: 3.9515 - mae: 3.9515\n",
            "Epoch 46/200\n",
            "1/1 [==============================] - 0s 11ms/step - loss: 3.9239 - mae: 3.9239\n",
            "Epoch 47/200\n",
            "1/1 [==============================] - 0s 11ms/step - loss: 3.8838 - mae: 3.8838\n",
            "Epoch 48/200\n",
            "1/1 [==============================] - 0s 11ms/step - loss: 3.8328 - mae: 3.8328\n",
            "Epoch 49/200\n",
            "1/1 [==============================] - 0s 11ms/step - loss: 3.7715 - mae: 3.7715\n",
            "Epoch 50/200\n",
            "1/1 [==============================] - 0s 11ms/step - loss: 3.7010 - mae: 3.7010\n",
            "Epoch 51/200\n",
            "1/1 [==============================] - 0s 11ms/step - loss: 3.6711 - mae: 3.6711\n",
            "Epoch 52/200\n",
            "1/1 [==============================] - 0s 11ms/step - loss: 3.6970 - mae: 3.6970\n",
            "Epoch 53/200\n",
            "1/1 [==============================] - 0s 11ms/step - loss: 3.7109 - mae: 3.7109\n",
            "Epoch 54/200\n",
            "1/1 [==============================] - 0s 11ms/step - loss: 3.7133 - mae: 3.7133\n",
            "Epoch 55/200\n",
            "1/1 [==============================] - 0s 11ms/step - loss: 3.7095 - mae: 3.7095\n",
            "Epoch 56/200\n",
            "1/1 [==============================] - 0s 11ms/step - loss: 3.6947 - mae: 3.6947\n",
            "Epoch 57/200\n",
            "1/1 [==============================] - 0s 11ms/step - loss: 3.6751 - mae: 3.6751\n",
            "Epoch 58/200\n",
            "1/1 [==============================] - 0s 12ms/step - loss: 3.6481 - mae: 3.6481\n",
            "Epoch 59/200\n",
            "1/1 [==============================] - 0s 13ms/step - loss: 3.6141 - mae: 3.6141\n",
            "Epoch 60/200\n",
            "1/1 [==============================] - 0s 14ms/step - loss: 3.5734 - mae: 3.5734\n",
            "Epoch 61/200\n",
            "1/1 [==============================] - 0s 16ms/step - loss: 3.5722 - mae: 3.5722\n",
            "Epoch 62/200\n",
            "1/1 [==============================] - 0s 11ms/step - loss: 3.5981 - mae: 3.5981\n",
            "Epoch 63/200\n",
            "1/1 [==============================] - 0s 12ms/step - loss: 3.5827 - mae: 3.5827\n",
            "Epoch 64/200\n",
            "1/1 [==============================] - 0s 15ms/step - loss: 3.5586 - mae: 3.5586\n",
            "Epoch 65/200\n",
            "1/1 [==============================] - 0s 14ms/step - loss: 3.5158 - mae: 3.5158\n",
            "Epoch 66/200\n",
            "1/1 [==============================] - 0s 12ms/step - loss: 3.5202 - mae: 3.5202\n",
            "Epoch 67/200\n",
            "1/1 [==============================] - 0s 14ms/step - loss: 3.5313 - mae: 3.5313\n",
            "Epoch 68/200\n",
            "1/1 [==============================] - 0s 12ms/step - loss: 3.5296 - mae: 3.5296\n",
            "Epoch 69/200\n",
            "1/1 [==============================] - 0s 11ms/step - loss: 3.5173 - mae: 3.5173\n",
            "Epoch 70/200\n",
            "1/1 [==============================] - 0s 11ms/step - loss: 3.4943 - mae: 3.4943\n",
            "Epoch 71/200\n",
            "1/1 [==============================] - 0s 11ms/step - loss: 3.4621 - mae: 3.4621\n",
            "Epoch 72/200\n",
            "1/1 [==============================] - 0s 12ms/step - loss: 3.4215 - mae: 3.4215\n",
            "Epoch 73/200\n",
            "1/1 [==============================] - 0s 9ms/step - loss: 3.4584 - mae: 3.4584\n",
            "Epoch 74/200\n",
            "1/1 [==============================] - 0s 9ms/step - loss: 3.4444 - mae: 3.4444\n",
            "Epoch 75/200\n",
            "1/1 [==============================] - 0s 9ms/step - loss: 3.4228 - mae: 3.4228\n",
            "Epoch 76/200\n",
            "1/1 [==============================] - 0s 17ms/step - loss: 3.3806 - mae: 3.3806\n",
            "Epoch 77/200\n",
            "1/1 [==============================] - 0s 14ms/step - loss: 3.3830 - mae: 3.3830\n",
            "Epoch 78/200\n",
            "1/1 [==============================] - 0s 12ms/step - loss: 3.3927 - mae: 3.3927\n",
            "Epoch 79/200\n",
            "1/1 [==============================] - 0s 13ms/step - loss: 3.3890 - mae: 3.3890\n",
            "Epoch 80/200\n",
            "1/1 [==============================] - 0s 10ms/step - loss: 3.3728 - mae: 3.3728\n",
            "Epoch 81/200\n",
            "1/1 [==============================] - 0s 11ms/step - loss: 3.3465 - mae: 3.3465\n",
            "Epoch 82/200\n",
            "1/1 [==============================] - 0s 10ms/step - loss: 3.3095 - mae: 3.3095\n",
            "Epoch 83/200\n",
            "1/1 [==============================] - 0s 11ms/step - loss: 3.2858 - mae: 3.2858\n",
            "Epoch 84/200\n",
            "1/1 [==============================] - 0s 11ms/step - loss: 3.2829 - mae: 3.2829\n",
            "Epoch 85/200\n",
            "1/1 [==============================] - 0s 10ms/step - loss: 3.2514 - mae: 3.2514\n",
            "Epoch 86/200\n",
            "1/1 [==============================] - 0s 11ms/step - loss: 3.2320 - mae: 3.2320\n",
            "Epoch 87/200\n",
            "1/1 [==============================] - 0s 10ms/step - loss: 3.2219 - mae: 3.2219\n",
            "Epoch 88/200\n",
            "1/1 [==============================] - 0s 11ms/step - loss: 3.2004 - mae: 3.2004\n",
            "Epoch 89/200\n",
            "1/1 [==============================] - 0s 9ms/step - loss: 3.1672 - mae: 3.1672\n",
            "Epoch 90/200\n",
            "1/1 [==============================] - 0s 10ms/step - loss: 3.1366 - mae: 3.1366\n",
            "Epoch 91/200\n",
            "1/1 [==============================] - 0s 10ms/step - loss: 3.1128 - mae: 3.1128\n",
            "Epoch 92/200\n",
            "1/1 [==============================] - 0s 9ms/step - loss: 3.0879 - mae: 3.0879\n",
            "Epoch 93/200\n",
            "1/1 [==============================] - 0s 10ms/step - loss: 3.0852 - mae: 3.0852\n",
            "Epoch 94/200\n",
            "1/1 [==============================] - 0s 10ms/step - loss: 3.0352 - mae: 3.0352\n",
            "Epoch 95/200\n",
            "1/1 [==============================] - 0s 9ms/step - loss: 2.9960 - mae: 2.9960\n",
            "Epoch 96/200\n",
            "1/1 [==============================] - 0s 9ms/step - loss: 2.9631 - mae: 2.9631\n",
            "Epoch 97/200\n",
            "1/1 [==============================] - 0s 11ms/step - loss: 2.9296 - mae: 2.9296\n",
            "Epoch 98/200\n",
            "1/1 [==============================] - 0s 10ms/step - loss: 2.9035 - mae: 2.9035\n",
            "Epoch 99/200\n",
            "1/1 [==============================] - 0s 10ms/step - loss: 2.8821 - mae: 2.8821\n",
            "Epoch 100/200\n",
            "1/1 [==============================] - 0s 10ms/step - loss: 2.8503 - mae: 2.8503\n",
            "Epoch 101/200\n",
            "1/1 [==============================] - 0s 10ms/step - loss: 2.8240 - mae: 2.8240\n",
            "Epoch 102/200\n",
            "1/1 [==============================] - 0s 10ms/step - loss: 2.7756 - mae: 2.7756\n",
            "Epoch 103/200\n",
            "1/1 [==============================] - 0s 10ms/step - loss: 2.7410 - mae: 2.7410\n",
            "Epoch 104/200\n",
            "1/1 [==============================] - 0s 10ms/step - loss: 2.7185 - mae: 2.7185\n",
            "Epoch 105/200\n",
            "1/1 [==============================] - 0s 12ms/step - loss: 2.6824 - mae: 2.6824\n",
            "Epoch 106/200\n",
            "1/1 [==============================] - 0s 9ms/step - loss: 2.6299 - mae: 2.6299\n",
            "Epoch 107/200\n",
            "1/1 [==============================] - 0s 10ms/step - loss: 2.5855 - mae: 2.5855\n",
            "Epoch 108/200\n",
            "1/1 [==============================] - 0s 10ms/step - loss: 2.5313 - mae: 2.5313\n",
            "Epoch 109/200\n",
            "1/1 [==============================] - 0s 13ms/step - loss: 2.4931 - mae: 2.4931\n",
            "Epoch 110/200\n",
            "1/1 [==============================] - 0s 10ms/step - loss: 2.4479 - mae: 2.4479\n",
            "Epoch 111/200\n",
            "1/1 [==============================] - 0s 10ms/step - loss: 2.3847 - mae: 2.3847\n",
            "Epoch 112/200\n",
            "1/1 [==============================] - 0s 10ms/step - loss: 2.3014 - mae: 2.3014\n",
            "Epoch 113/200\n",
            "1/1 [==============================] - 0s 10ms/step - loss: 2.2316 - mae: 2.2316\n",
            "Epoch 114/200\n",
            "1/1 [==============================] - 0s 11ms/step - loss: 2.1594 - mae: 2.1594\n",
            "Epoch 115/200\n",
            "1/1 [==============================] - 0s 12ms/step - loss: 2.0905 - mae: 2.0905\n",
            "Epoch 116/200\n",
            "1/1 [==============================] - 0s 13ms/step - loss: 2.0388 - mae: 2.0388\n",
            "Epoch 117/200\n",
            "1/1 [==============================] - 0s 11ms/step - loss: 1.9676 - mae: 1.9676\n",
            "Epoch 118/200\n",
            "1/1 [==============================] - 0s 10ms/step - loss: 1.9006 - mae: 1.9006\n",
            "Epoch 119/200\n",
            "1/1 [==============================] - 0s 11ms/step - loss: 1.8151 - mae: 1.8151\n",
            "Epoch 120/200\n",
            "1/1 [==============================] - 0s 10ms/step - loss: 1.7480 - mae: 1.7480\n",
            "Epoch 121/200\n",
            "1/1 [==============================] - 0s 11ms/step - loss: 1.6650 - mae: 1.6650\n",
            "Epoch 122/200\n",
            "1/1 [==============================] - 0s 15ms/step - loss: 1.5619 - mae: 1.5619\n",
            "Epoch 123/200\n",
            "1/1 [==============================] - 0s 14ms/step - loss: 1.4291 - mae: 1.4291\n",
            "Epoch 124/200\n",
            "1/1 [==============================] - 0s 13ms/step - loss: 1.3946 - mae: 1.3946\n",
            "Epoch 125/200\n",
            "1/1 [==============================] - 0s 13ms/step - loss: 1.2456 - mae: 1.2456\n",
            "Epoch 126/200\n",
            "1/1 [==============================] - 0s 10ms/step - loss: 1.1246 - mae: 1.1246\n",
            "Epoch 127/200\n",
            "1/1 [==============================] - 0s 12ms/step - loss: 1.0586 - mae: 1.0586\n",
            "Epoch 128/200\n",
            "1/1 [==============================] - 0s 12ms/step - loss: 0.9276 - mae: 0.9276\n",
            "Epoch 129/200\n",
            "1/1 [==============================] - 0s 9ms/step - loss: 0.7921 - mae: 0.7921\n",
            "Epoch 130/200\n",
            "1/1 [==============================] - 0s 9ms/step - loss: 0.6319 - mae: 0.6319\n",
            "Epoch 131/200\n",
            "1/1 [==============================] - 0s 9ms/step - loss: 0.6344 - mae: 0.6344\n",
            "Epoch 132/200\n",
            "1/1 [==============================] - 0s 10ms/step - loss: 0.4298 - mae: 0.4298\n",
            "Epoch 133/200\n",
            "1/1 [==============================] - 0s 10ms/step - loss: 0.3999 - mae: 0.3999\n",
            "Epoch 134/200\n",
            "1/1 [==============================] - 0s 11ms/step - loss: 0.3493 - mae: 0.3493\n",
            "Epoch 135/200\n",
            "1/1 [==============================] - 0s 15ms/step - loss: 0.4416 - mae: 0.4416\n",
            "Epoch 136/200\n",
            "1/1 [==============================] - 0s 10ms/step - loss: 0.3293 - mae: 0.3293\n",
            "Epoch 137/200\n",
            "1/1 [==============================] - 0s 9ms/step - loss: 0.8465 - mae: 0.8465\n",
            "Epoch 138/200\n",
            "1/1 [==============================] - 0s 10ms/step - loss: 0.8284 - mae: 0.8284\n",
            "Epoch 139/200\n",
            "1/1 [==============================] - 0s 9ms/step - loss: 0.4286 - mae: 0.4286\n",
            "Epoch 140/200\n",
            "1/1 [==============================] - 0s 10ms/step - loss: 0.9374 - mae: 0.9374\n",
            "Epoch 141/200\n",
            "1/1 [==============================] - 0s 9ms/step - loss: 1.2454 - mae: 1.2454\n",
            "Epoch 142/200\n",
            "1/1 [==============================] - 0s 9ms/step - loss: 1.1383 - mae: 1.1383\n",
            "Epoch 143/200\n",
            "1/1 [==============================] - 0s 9ms/step - loss: 0.6752 - mae: 0.6752\n",
            "Epoch 144/200\n",
            "1/1 [==============================] - 0s 10ms/step - loss: 0.4606 - mae: 0.4606\n",
            "Epoch 145/200\n",
            "1/1 [==============================] - 0s 9ms/step - loss: 0.8167 - mae: 0.8167\n",
            "Epoch 146/200\n",
            "1/1 [==============================] - 0s 10ms/step - loss: 0.6941 - mae: 0.6941\n",
            "Epoch 147/200\n",
            "1/1 [==============================] - 0s 10ms/step - loss: 0.3332 - mae: 0.3332\n",
            "Epoch 148/200\n",
            "1/1 [==============================] - 0s 9ms/step - loss: 0.3823 - mae: 0.3823\n",
            "Epoch 149/200\n",
            "1/1 [==============================] - 0s 9ms/step - loss: 0.3026 - mae: 0.3026\n",
            "Epoch 150/200\n",
            "1/1 [==============================] - 0s 10ms/step - loss: 0.3602 - mae: 0.3602\n",
            "Epoch 151/200\n",
            "1/1 [==============================] - 0s 11ms/step - loss: 0.3931 - mae: 0.3931\n",
            "Epoch 152/200\n",
            "1/1 [==============================] - 0s 9ms/step - loss: 0.3029 - mae: 0.3029\n",
            "Epoch 153/200\n",
            "1/1 [==============================] - 0s 10ms/step - loss: 0.3369 - mae: 0.3369\n",
            "Epoch 154/200\n",
            "1/1 [==============================] - 0s 10ms/step - loss: 0.2731 - mae: 0.2731\n",
            "Epoch 155/200\n",
            "1/1 [==============================] - 0s 9ms/step - loss: 0.2808 - mae: 0.2808\n",
            "Epoch 156/200\n",
            "1/1 [==============================] - 0s 10ms/step - loss: 0.4091 - mae: 0.4091\n",
            "Epoch 157/200\n",
            "1/1 [==============================] - 0s 9ms/step - loss: 0.2643 - mae: 0.2643\n",
            "Epoch 158/200\n",
            "1/1 [==============================] - 0s 10ms/step - loss: 0.2502 - mae: 0.2502\n",
            "Epoch 159/200\n",
            "1/1 [==============================] - 0s 9ms/step - loss: 0.3257 - mae: 0.3257\n",
            "Epoch 160/200\n",
            "1/1 [==============================] - 0s 9ms/step - loss: 0.1983 - mae: 0.1983\n",
            "Epoch 161/200\n",
            "1/1 [==============================] - 0s 9ms/step - loss: 0.2939 - mae: 0.2939\n",
            "Epoch 162/200\n",
            "1/1 [==============================] - 0s 11ms/step - loss: 0.2565 - mae: 0.2565\n",
            "Epoch 163/200\n",
            "1/1 [==============================] - 0s 12ms/step - loss: 0.2225 - mae: 0.2225\n",
            "Epoch 164/200\n",
            "1/1 [==============================] - 0s 8ms/step - loss: 0.2310 - mae: 0.2310\n",
            "Epoch 165/200\n",
            "1/1 [==============================] - 0s 12ms/step - loss: 0.1605 - mae: 0.1605\n",
            "Epoch 166/200\n",
            "1/1 [==============================] - 0s 8ms/step - loss: 0.3077 - mae: 0.3077\n",
            "Epoch 167/200\n",
            "1/1 [==============================] - 0s 8ms/step - loss: 0.1800 - mae: 0.1800\n",
            "Epoch 168/200\n",
            "1/1 [==============================] - 0s 12ms/step - loss: 0.2596 - mae: 0.2596\n",
            "Epoch 169/200\n",
            "1/1 [==============================] - 0s 10ms/step - loss: 0.3142 - mae: 0.3142\n",
            "Epoch 170/200\n",
            "1/1 [==============================] - 0s 10ms/step - loss: 0.1005 - mae: 0.1005\n",
            "Epoch 171/200\n",
            "1/1 [==============================] - 0s 10ms/step - loss: 0.2827 - mae: 0.2827\n",
            "Epoch 172/200\n",
            "1/1 [==============================] - 0s 8ms/step - loss: 0.3320 - mae: 0.3320\n",
            "Epoch 173/200\n",
            "1/1 [==============================] - 0s 10ms/step - loss: 0.1599 - mae: 0.1599\n",
            "Epoch 174/200\n",
            "1/1 [==============================] - 0s 11ms/step - loss: 0.3954 - mae: 0.3954\n",
            "Epoch 175/200\n",
            "1/1 [==============================] - 0s 12ms/step - loss: 0.4126 - mae: 0.4126\n",
            "Epoch 176/200\n",
            "1/1 [==============================] - 0s 13ms/step - loss: 0.2347 - mae: 0.2347\n",
            "Epoch 177/200\n",
            "1/1 [==============================] - 0s 13ms/step - loss: 0.4407 - mae: 0.4407\n",
            "Epoch 178/200\n",
            "1/1 [==============================] - 0s 13ms/step - loss: 0.5411 - mae: 0.5411\n",
            "Epoch 179/200\n",
            "1/1 [==============================] - 0s 9ms/step - loss: 0.3059 - mae: 0.3059\n",
            "Epoch 180/200\n",
            "1/1 [==============================] - 0s 9ms/step - loss: 0.1926 - mae: 0.1926\n",
            "Epoch 181/200\n",
            "1/1 [==============================] - 0s 9ms/step - loss: 0.3213 - mae: 0.3213\n",
            "Epoch 182/200\n",
            "1/1 [==============================] - 0s 9ms/step - loss: 0.1488 - mae: 0.1488\n",
            "Epoch 183/200\n",
            "1/1 [==============================] - 0s 9ms/step - loss: 0.2430 - mae: 0.2430\n",
            "Epoch 184/200\n",
            "1/1 [==============================] - 0s 9ms/step - loss: 0.1992 - mae: 0.1992\n",
            "Epoch 185/200\n",
            "1/1 [==============================] - 0s 14ms/step - loss: 0.1516 - mae: 0.1516\n",
            "Epoch 186/200\n",
            "1/1 [==============================] - 0s 11ms/step - loss: 0.1514 - mae: 0.1514\n",
            "Epoch 187/200\n",
            "1/1 [==============================] - 0s 9ms/step - loss: 0.1068 - mae: 0.1068\n",
            "Epoch 188/200\n",
            "1/1 [==============================] - 0s 9ms/step - loss: 0.0840 - mae: 0.0840\n",
            "Epoch 189/200\n",
            "1/1 [==============================] - 0s 9ms/step - loss: 0.2191 - mae: 0.2191\n",
            "Epoch 190/200\n",
            "1/1 [==============================] - 0s 11ms/step - loss: 0.1850 - mae: 0.1850\n",
            "Epoch 191/200\n",
            "1/1 [==============================] - 0s 11ms/step - loss: 0.1260 - mae: 0.1260\n",
            "Epoch 192/200\n",
            "1/1 [==============================] - 0s 14ms/step - loss: 0.1126 - mae: 0.1126\n",
            "Epoch 193/200\n",
            "1/1 [==============================] - 0s 13ms/step - loss: 0.1577 - mae: 0.1577\n",
            "Epoch 194/200\n",
            "1/1 [==============================] - 0s 11ms/step - loss: 0.1242 - mae: 0.1242\n",
            "Epoch 195/200\n",
            "1/1 [==============================] - 0s 10ms/step - loss: 0.1673 - mae: 0.1673\n",
            "Epoch 196/200\n",
            "1/1 [==============================] - 0s 10ms/step - loss: 0.1481 - mae: 0.1481\n",
            "Epoch 197/200\n",
            "1/1 [==============================] - 0s 10ms/step - loss: 0.1434 - mae: 0.1434\n",
            "Epoch 198/200\n",
            "1/1 [==============================] - 0s 10ms/step - loss: 0.1540 - mae: 0.1540\n",
            "Epoch 199/200\n",
            "1/1 [==============================] - 0s 10ms/step - loss: 0.1062 - mae: 0.1062\n",
            "Epoch 200/200\n",
            "1/1 [==============================] - 0s 10ms/step - loss: 0.0961 - mae: 0.0961\n"
          ]
        },
        {
          "output_type": "execute_result",
          "data": {
            "text/plain": [
              "<keras.callbacks.History at 0x7f7a8bea3df0>"
            ]
          },
          "metadata": {},
          "execution_count": 41
        }
      ]
    },
    {
      "cell_type": "code",
      "source": [
        "# let's predict our model output\n",
        "model.predict(tf.constant([17.0]))"
      ],
      "metadata": {
        "colab": {
          "base_uri": "https://localhost:8080/"
        },
        "id": "RXzOb-bFw1Ze",
        "outputId": "93b89292-8aaa-45d1-c06f-5e1314f930b7"
      },
      "execution_count": 42,
      "outputs": [
        {
          "output_type": "stream",
          "name": "stderr",
          "text": [
            "WARNING:tensorflow:6 out of the last 8 calls to <function Model.make_predict_function.<locals>.predict_function at 0x7f7a983f3280> triggered tf.function retracing. Tracing is expensive and the excessive number of tracings could be due to (1) creating @tf.function repeatedly in a loop, (2) passing tensors with different shapes, (3) passing Python objects instead of tensors. For (1), please define your @tf.function outside of the loop. For (2), @tf.function has reduce_retracing=True option that can avoid unnecessary retracing. For (3), please refer to https://www.tensorflow.org/guide/function#controlling_retracing and https://www.tensorflow.org/api_docs/python/tf/function for  more details.\n"
          ]
        },
        {
          "output_type": "stream",
          "name": "stdout",
          "text": [
            "1/1 [==============================] - 0s 76ms/step\n"
          ]
        },
        {
          "output_type": "execute_result",
          "data": {
            "text/plain": [
              "array([[26.88557]], dtype=float32)"
            ]
          },
          "metadata": {},
          "execution_count": 42
        }
      ]
    },
    {
      "cell_type": "code",
      "source": [],
      "metadata": {
        "id": "oBuBAEcbxCc6"
      },
      "execution_count": null,
      "outputs": []
    }
  ]
}