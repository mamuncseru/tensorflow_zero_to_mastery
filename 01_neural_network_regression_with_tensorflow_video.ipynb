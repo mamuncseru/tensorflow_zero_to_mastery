{
  "nbformat": 4,
  "nbformat_minor": 0,
  "metadata": {
    "colab": {
      "provenance": [],
      "authorship_tag": "ABX9TyM6vKWBouceSmWVehJn4/f2",
      "include_colab_link": true
    },
    "kernelspec": {
      "name": "python3",
      "display_name": "Python 3"
    },
    "language_info": {
      "name": "python"
    }
  },
  "cells": [
    {
      "cell_type": "markdown",
      "metadata": {
        "id": "view-in-github",
        "colab_type": "text"
      },
      "source": [
        "<a href=\"https://colab.research.google.com/github/mamuncseru/tensorflow_zero_to_mastery/blob/main/01_neural_network_regression_with_tensorflow_video.ipynb\" target=\"_parent\"><img src=\"https://colab.research.google.com/assets/colab-badge.svg\" alt=\"Open In Colab\"/></a>"
      ]
    },
    {
      "cell_type": "markdown",
      "source": [
        "# Introduction to Regression with Neural Networks in Tensorflow\n",
        "\n",
        "There are many definitions for a regression problem but in our case, we're going to simplify it: predicting a numerical variable based on some other combination of variables, even shorter... predicting a number."
      ],
      "metadata": {
        "id": "xvvP_DcogWnW"
      }
    },
    {
      "cell_type": "code",
      "source": [
        "# import TensorFlow\n",
        "import tensorflow as tf\n",
        "print(tf.__version__)"
      ],
      "metadata": {
        "colab": {
          "base_uri": "https://localhost:8080/"
        },
        "id": "Uh_m_0KMhVWc",
        "outputId": "852dbc1b-a452-4ab7-ec7e-744a5607095d"
      },
      "execution_count": 1,
      "outputs": [
        {
          "output_type": "stream",
          "name": "stdout",
          "text": [
            "2.12.0\n"
          ]
        }
      ]
    },
    {
      "cell_type": "markdown",
      "source": [
        "## Creating data to view and fit"
      ],
      "metadata": {
        "id": "uLFMh2wghfon"
      }
    },
    {
      "cell_type": "code",
      "source": [
        "import numpy as np\n",
        "import matplotlib.pyplot as plt\n",
        "\n",
        "# Create features\n",
        "X = np.array([-7.0, -4.0, -1.0, 2.0, 5.0, 8.0, 11.0, 14.0])\n",
        "\n",
        "# Create labels\n",
        "y = np.array([3.0, 6.0, 9.0, 12.0, 15.0, 18.0, 21.0, 24.0])\n",
        "\n",
        "# Visualize it\n",
        "plt.scatter(X, y);"
      ],
      "metadata": {
        "colab": {
          "base_uri": "https://localhost:8080/",
          "height": 435
        },
        "id": "3hlreLBHhn3Z",
        "outputId": "123d5bfd-5a23-4a66-c5cb-1ddc7d292b44"
      },
      "execution_count": 2,
      "outputs": [
        {
          "output_type": "display_data",
          "data": {
            "text/plain": [
              "<Figure size 640x480 with 1 Axes>"
            ],
            "image/png": "[encoded data removed]"
          },
          "metadata": {}
        }
      ]
    },
    {
      "cell_type": "code",
      "source": [
        "y == X + 10"
      ],
      "metadata": {
        "colab": {
          "base_uri": "https://localhost:8080/"
        },
        "id": "S4Z7fcHMiF-Q",
        "outputId": "fb710e78-4e27-49cd-c9d5-fc5118bffd75"
      },
      "execution_count": 3,
      "outputs": [
        {
          "output_type": "execute_result",
          "data": {
            "text/plain": [
              "array([ True,  True,  True,  True,  True,  True,  True,  True])"
            ]
          },
          "metadata": {},
          "execution_count": 3
        }
      ]
    },
    {
      "cell_type": "markdown",
      "source": [
        "## Input and output shapes"
      ],
      "metadata": {
        "id": "Zp1bk-z7iXIU"
      }
    },
    {
      "cell_type": "code",
      "source": [
        "# Create a demo tensor for our housing price prediction problem\n",
        "house_info = tf.constant([\"bedroom\", \"bathroom\", \"garage\"])\n",
        "house_price = tf.constant([939700])\n",
        "house_info, house_price"
      ],
      "metadata": {
        "colab": {
          "base_uri": "https://localhost:8080/"
        },
        "id": "jBrqp89VieeA",
        "outputId": "aac40269-f9dd-46e6-8bf9-1daf6be81975"
      },
      "execution_count": 4,
      "outputs": [
        {
          "output_type": "execute_result",
          "data": {
            "text/plain": [
              "(<tf.Tensor: shape=(3,), dtype=string, numpy=array([b'bedroom', b'bathroom', b'garage'], dtype=object)>,\n",
              " <tf.Tensor: shape=(1,), dtype=int32, numpy=array([939700], dtype=int32)>)"
            ]
          },
          "metadata": {},
          "execution_count": 4
        }
      ]
    },
    {
      "cell_type": "code",
      "source": [
        "X[0], y[0]"
      ],
      "metadata": {
        "colab": {
          "base_uri": "https://localhost:8080/"
        },
        "id": "kOWMDEf1jLq3",
        "outputId": "ff644481-4bdc-4b04-a631-1354e109bfb5"
      },
      "execution_count": 5,
      "outputs": [
        {
          "output_type": "execute_result",
          "data": {
            "text/plain": [
              "(-7.0, 3.0)"
            ]
          },
          "metadata": {},
          "execution_count": 5
        }
      ]
    },
    {
      "cell_type": "code",
      "source": [
        "X[1], y[1]"
      ],
      "metadata": {
        "colab": {
          "base_uri": "https://localhost:8080/"
        },
        "id": "sS3TqxxCjOyM",
        "outputId": "7d23f65f-ed12-43c8-961d-2f18ab1fe4be"
      },
      "execution_count": 6,
      "outputs": [
        {
          "output_type": "execute_result",
          "data": {
            "text/plain": [
              "(-4.0, 6.0)"
            ]
          },
          "metadata": {},
          "execution_count": 6
        }
      ]
    },
    {
      "cell_type": "code",
      "source": [
        "input_shape = X[0].shape\n",
        "output_shape = y[0].shape\n",
        "input_shape, output_shape"
      ],
      "metadata": {
        "colab": {
          "base_uri": "https://localhost:8080/"
        },
        "id": "LgTeEsWEi8OJ",
        "outputId": "ef56c7f9-c535-4a2f-a65c-04b8263c1027"
      },
      "execution_count": 7,
      "outputs": [
        {
          "output_type": "execute_result",
          "data": {
            "text/plain": [
              "((), ())"
            ]
          },
          "metadata": {},
          "execution_count": 7
        }
      ]
    },
    {
      "cell_type": "code",
      "source": [
        "X[0].ndim"
      ],
      "metadata": {
        "colab": {
          "base_uri": "https://localhost:8080/"
        },
        "id": "Drxim2-yjond",
        "outputId": "87fc21dc-6fc1-4d60-c424-5f5de6da58fa"
      },
      "execution_count": 8,
      "outputs": [
        {
          "output_type": "execute_result",
          "data": {
            "text/plain": [
              "0"
            ]
          },
          "metadata": {},
          "execution_count": 8
        }
      ]
    },
    {
      "cell_type": "code",
      "source": [
        "X[0], y[0]"
      ],
      "metadata": {
        "colab": {
          "base_uri": "https://localhost:8080/"
        },
        "id": "MbpW49zPjG0F",
        "outputId": "2d5f4d4b-ea2a-40e4-f291-630433cf723d"
      },
      "execution_count": 9,
      "outputs": [
        {
          "output_type": "execute_result",
          "data": {
            "text/plain": [
              "(-7.0, 3.0)"
            ]
          },
          "metadata": {},
          "execution_count": 9
        }
      ]
    },
    {
      "cell_type": "code",
      "source": [
        "# Turn our NumPy arrays into tensors\n",
        "X = tf.cast(tf.constant(X), dtype=tf.float32)\n",
        "y = tf.cast(tf.constant(y), dtype=tf.float32)\n",
        "X, y"
      ],
      "metadata": {
        "colab": {
          "base_uri": "https://localhost:8080/"
        },
        "id": "36fzgtdOjlYW",
        "outputId": "2fc90e21-f129-47d7-8b9c-4c8254a52126"
      },
      "execution_count": 10,
      "outputs": [
        {
          "output_type": "execute_result",
          "data": {
            "text/plain": [
              "(<tf.Tensor: shape=(8,), dtype=float32, numpy=array([-7., -4., -1.,  2.,  5.,  8., 11., 14.], dtype=float32)>,\n",
              " <tf.Tensor: shape=(8,), dtype=float32, numpy=array([ 3.,  6.,  9., 12., 15., 18., 21., 24.], dtype=float32)>)"
            ]
          },
          "metadata": {},
          "execution_count": 10
        }
      ]
    },
    {
      "cell_type": "code",
      "source": [
        "input_shape = X[0].shape\n",
        "output_shape = y[0].shape\n",
        "input_shape, output_shape"
      ],
      "metadata": {
        "colab": {
          "base_uri": "https://localhost:8080/"
        },
        "id": "fnNrHe-ej8FX",
        "outputId": "35d4a8ff-8cb6-4832-d1e2-94d838dce97f"
      },
      "execution_count": 11,
      "outputs": [
        {
          "output_type": "execute_result",
          "data": {
            "text/plain": [
              "(TensorShape([]), TensorShape([]))"
            ]
          },
          "metadata": {},
          "execution_count": 11
        }
      ]
    },
    {
      "cell_type": "code",
      "source": [
        "plt.scatter(X, y)"
      ],
      "metadata": {
        "colab": {
          "base_uri": "https://localhost:8080/",
          "height": 453
        },
        "id": "8SndUmBikEEN",
        "outputId": "10528f27-9589-44d2-96f5-41a0a2faff60"
      },
      "execution_count": 12,
      "outputs": [
        {
          "output_type": "execute_result",
          "data": {
            "text/plain": [
              "<matplotlib.collections.PathCollection at 0x7f53e8e55f40>"
            ]
          },
          "metadata": {},
          "execution_count": 12
        },
        {
          "output_type": "display_data",
          "data": {
            "text/plain": [
              "<Figure size 640x480 with 1 Axes>"
            ],
            "image/png": "[encoded data removed]"
          },
          "metadata": {}
        }
      ]
    },
    {
      "cell_type": "markdown",
      "source": [
        "## Steps in modelling with Tensorflow\n",
        "\n",
        "1. **Creating a model** - define the input and output layers, as well as the hidden layers of a deep learning model.\n",
        "2. **Compiling a model** - define the loss function (in others words, the function which tells our model how wrong it is) and the optimizer (tells our model how to improve the patterns its learning) and evaluation metrics (what we can use to interpret the performance of our model).\n",
        "3. Fitting a model -letting the model try to find patterns between X & y (features and labels)"
      ],
      "metadata": {
        "id": "3TDUtBCckK69"
      }
    },
    {
      "cell_type": "code",
      "source": [
        "# set random seed\n",
        "tf.random.set_seed(42)\n",
        "\n",
        "#1. Create a model using the Sequential API\n",
        "model = tf.keras.Sequential([\n",
        "    tf.keras.layers.Dense(1)\n",
        "])\n",
        "\n",
        "# 2. Compile the model\n",
        "model.compile(loss = tf.keras.losses.mae, # mae is short for mean absolute error\n",
        "              optimizer = tf.keras.optimizers.SGD(), # SGD is short for Stochastic gradient descent\n",
        "              metrics=[\"mae\"])\n",
        "\n",
        "# 3. Fit the model\n",
        "model.fit(tf.expand_dims(X, axis=-1), y, epochs=5)"
      ],
      "metadata": {
        "colab": {
          "base_uri": "https://localhost:8080/"
        },
        "id": "IfxNYWm2k2us",
        "outputId": "641436bf-de3d-4141-a60f-07b92981cb45"
      },
      "execution_count": 13,
      "outputs": [
        {
          "output_type": "stream",
          "name": "stdout",
          "text": [
            "Epoch 1/5\n",
            "1/1 [==============================] - 1s 587ms/step - loss: 20.9942 - mae: 20.9942\n",
            "Epoch 2/5\n",
            "1/1 [==============================] - 0s 13ms/step - loss: 20.6032 - mae: 20.6032\n",
            "Epoch 3/5\n",
            "1/1 [==============================] - 0s 11ms/step - loss: 20.3220 - mae: 20.3220\n",
            "Epoch 4/5\n",
            "1/1 [==============================] - 0s 10ms/step - loss: 20.0407 - mae: 20.0407\n",
            "Epoch 5/5\n",
            "1/1 [==============================] - 0s 10ms/step - loss: 19.7595 - mae: 19.7595\n"
          ]
        },
        {
          "output_type": "execute_result",
          "data": {
            "text/plain": [
              "<keras.callbacks.History at 0x7f53e8c6ae50>"
            ]
          },
          "metadata": {},
          "execution_count": 13
        }
      ]
    },
    {
      "cell_type": "code",
      "source": [
        "# Check out X and y\n",
        "X, y"
      ],
      "metadata": {
        "colab": {
          "base_uri": "https://localhost:8080/"
        },
        "id": "9qtF7DT-mkKM",
        "outputId": "8e0fac62-77da-4640-ba72-b20bad35b59d"
      },
      "execution_count": 14,
      "outputs": [
        {
          "output_type": "execute_result",
          "data": {
            "text/plain": [
              "(<tf.Tensor: shape=(8,), dtype=float32, numpy=array([-7., -4., -1.,  2.,  5.,  8., 11., 14.], dtype=float32)>,\n",
              " <tf.Tensor: shape=(8,), dtype=float32, numpy=array([ 3.,  6.,  9., 12., 15., 18., 21., 24.], dtype=float32)>)"
            ]
          },
          "metadata": {},
          "execution_count": 14
        }
      ]
    },
    {
      "cell_type": "code",
      "source": [
        "# try and make a prediction using our model\n",
        "y_pred = model.predict([17.0])\n",
        "y_pred"
      ],
      "metadata": {
        "colab": {
          "base_uri": "https://localhost:8080/"
        },
        "id": "o_aLB0WuoU3O",
        "outputId": "4bfbe0b9-1003-4b29-e45a-a4d52f2ee582"
      },
      "execution_count": 15,
      "outputs": [
        {
          "output_type": "stream",
          "name": "stdout",
          "text": [
            "1/1 [==============================] - 0s 110ms/step\n"
          ]
        },
        {
          "output_type": "execute_result",
          "data": {
            "text/plain": [
              "array([[-21.836657]], dtype=float32)"
            ]
          },
          "metadata": {},
          "execution_count": 15
        }
      ]
    },
    {
      "cell_type": "code",
      "source": [
        "y_pred + 16"
      ],
      "metadata": {
        "colab": {
          "base_uri": "https://localhost:8080/"
        },
        "id": "CqFvIAYVobO_",
        "outputId": "6dcab35d-3d0f-425c-f759-bfc3e8c80fc3"
      },
      "execution_count": 16,
      "outputs": [
        {
          "output_type": "execute_result",
          "data": {
            "text/plain": [
              "array([[-5.8366566]], dtype=float32)"
            ]
          },
          "metadata": {},
          "execution_count": 16
        }
      ]
    },
    {
      "cell_type": "markdown",
      "source": [
        "## Improving our model\n",
        "\n",
        "We can improve our model, by altering the steps we took to create a model.\n",
        "\n",
        "1. **Creating a model** - here we might add more layers,\n",
        "increase the number of hidden units (also called neurons)\n",
        "within each of the hidden layers, change the activation function of each layer.\n",
        "2. **Compiling a model** - here we might change the optimization function or perhaps the **learning rate** of the optimization function.\n",
        "3. **Fitting a model** - here we might fit a model for more epochs (leave it training for longer) or on more data (give the model more examples to learn from)"
      ],
      "metadata": {
        "id": "r3TkJ6HtotkW"
      }
    },
    {
      "cell_type": "code",
      "source": [
        "# Let's rebuild our model\n",
        "\n",
        "# 1. Create the model\n",
        "model = tf.keras.Sequential([\n",
        "    tf.keras.layers.Dense(1)\n",
        "])\n",
        "\n",
        "# 2. Compile the model\n",
        "model.compile(loss=tf.keras.losses.mae,\n",
        "              optimizer=tf.keras.optimizers.SGD(),\n",
        "              metrics=['mae'])\n",
        "\n",
        "# 3. fit the model (this time we'll train for longer)\n",
        "model.fit(tf.expand_dims(X, axis=-1), y, epochs=100)"
      ],
      "metadata": {
        "colab": {
          "base_uri": "https://localhost:8080/"
        },
        "id": "-KtogCRCuLAx",
        "outputId": "17fae9b1-d44c-4d44-e343-41ac636e7bed"
      },
      "execution_count": 17,
      "outputs": [
        {
          "output_type": "stream",
          "name": "stdout",
          "text": [
            "Epoch 1/100\n",
            "1/1 [==============================] - 0s 337ms/step - loss: 8.5970 - mae: 8.5970\n",
            "Epoch 2/100\n",
            "1/1 [==============================] - 0s 11ms/step - loss: 8.4645 - mae: 8.4645\n",
            "Epoch 3/100\n",
            "1/1 [==============================] - 0s 10ms/step - loss: 8.3320 - mae: 8.3320\n",
            "Epoch 4/100\n",
            "1/1 [==============================] - 0s 11ms/step - loss: 8.1995 - mae: 8.1995\n",
            "Epoch 5/100\n",
            "1/1 [==============================] - 0s 11ms/step - loss: 8.0670 - mae: 8.0670\n",
            "Epoch 6/100\n",
            "1/1 [==============================] - 0s 7ms/step - loss: 7.9345 - mae: 7.9345\n",
            "Epoch 7/100\n",
            "1/1 [==============================] - 0s 7ms/step - loss: 7.8020 - mae: 7.8020\n",
            "Epoch 8/100\n",
            "1/1 [==============================] - 0s 8ms/step - loss: 7.6695 - mae: 7.6695\n",
            "Epoch 9/100\n",
            "1/1 [==============================] - 0s 12ms/step - loss: 7.5370 - mae: 7.5370\n",
            "Epoch 10/100\n",
            "1/1 [==============================] - 0s 9ms/step - loss: 7.4325 - mae: 7.4325\n",
            "Epoch 11/100\n",
            "1/1 [==============================] - 0s 8ms/step - loss: 7.4269 - mae: 7.4269\n",
            "Epoch 12/100\n",
            "1/1 [==============================] - 0s 12ms/step - loss: 7.4213 - mae: 7.4213\n",
            "Epoch 13/100\n",
            "1/1 [==============================] - 0s 10ms/step - loss: 7.4156 - mae: 7.4156\n",
            "Epoch 14/100\n",
            "1/1 [==============================] - 0s 9ms/step - loss: 7.4100 - mae: 7.4100\n",
            "Epoch 15/100\n",
            "1/1 [==============================] - 0s 7ms/step - loss: 7.4044 - mae: 7.4044\n",
            "Epoch 16/100\n",
            "1/1 [==============================] - 0s 11ms/step - loss: 7.3987 - mae: 7.3987\n",
            "Epoch 17/100\n",
            "1/1 [==============================] - 0s 9ms/step - loss: 7.3931 - mae: 7.3931\n",
            "Epoch 18/100\n",
            "1/1 [==============================] - 0s 7ms/step - loss: 7.3875 - mae: 7.3875\n",
            "Epoch 19/100\n",
            "1/1 [==============================] - 0s 9ms/step - loss: 7.3819 - mae: 7.3819\n",
            "Epoch 20/100\n",
            "1/1 [==============================] - 0s 8ms/step - loss: 7.3763 - mae: 7.3763\n",
            "Epoch 21/100\n",
            "1/1 [==============================] - 0s 8ms/step - loss: 7.3706 - mae: 7.3706\n",
            "Epoch 22/100\n",
            "1/1 [==============================] - 0s 7ms/step - loss: 7.3650 - mae: 7.3650\n",
            "Epoch 23/100\n",
            "1/1 [==============================] - 0s 13ms/step - loss: 7.3594 - mae: 7.3594\n",
            "Epoch 24/100\n",
            "1/1 [==============================] - 0s 10ms/step - loss: 7.3538 - mae: 7.3538\n",
            "Epoch 25/100\n",
            "1/1 [==============================] - 0s 10ms/step - loss: 7.3481 - mae: 7.3481\n",
            "Epoch 26/100\n",
            "1/1 [==============================] - 0s 10ms/step - loss: 7.3425 - mae: 7.3425\n",
            "Epoch 27/100\n",
            "1/1 [==============================] - 0s 8ms/step - loss: 7.3369 - mae: 7.3369\n",
            "Epoch 28/100\n",
            "1/1 [==============================] - 0s 10ms/step - loss: 7.3313 - mae: 7.3313\n",
            "Epoch 29/100\n",
            "1/1 [==============================] - 0s 8ms/step - loss: 7.3256 - mae: 7.3256\n",
            "Epoch 30/100\n",
            "1/1 [==============================] - 0s 11ms/step - loss: 7.3200 - mae: 7.3200\n",
            "Epoch 31/100\n",
            "1/1 [==============================] - 0s 7ms/step - loss: 7.3144 - mae: 7.3144\n",
            "Epoch 32/100\n",
            "1/1 [==============================] - 0s 7ms/step - loss: 7.3088 - mae: 7.3088\n",
            "Epoch 33/100\n",
            "1/1 [==============================] - 0s 9ms/step - loss: 7.3031 - mae: 7.3031\n",
            "Epoch 34/100\n",
            "1/1 [==============================] - 0s 8ms/step - loss: 7.2975 - mae: 7.2975\n",
            "Epoch 35/100\n",
            "1/1 [==============================] - 0s 10ms/step - loss: 7.2919 - mae: 7.2919\n",
            "Epoch 36/100\n",
            "1/1 [==============================] - 0s 10ms/step - loss: 7.2863 - mae: 7.2863\n",
            "Epoch 37/100\n",
            "1/1 [==============================] - 0s 11ms/step - loss: 7.2806 - mae: 7.2806\n",
            "Epoch 38/100\n",
            "1/1 [==============================] - 0s 8ms/step - loss: 7.2750 - mae: 7.2750\n",
            "Epoch 39/100\n",
            "1/1 [==============================] - 0s 8ms/step - loss: 7.2694 - mae: 7.2694\n",
            "Epoch 40/100\n",
            "1/1 [==============================] - 0s 8ms/step - loss: 7.2638 - mae: 7.2638\n",
            "Epoch 41/100\n",
            "1/1 [==============================] - 0s 8ms/step - loss: 7.2581 - mae: 7.2581\n",
            "Epoch 42/100\n",
            "1/1 [==============================] - 0s 10ms/step - loss: 7.2525 - mae: 7.2525\n",
            "Epoch 43/100\n",
            "1/1 [==============================] - 0s 11ms/step - loss: 7.2469 - mae: 7.2469\n",
            "Epoch 44/100\n",
            "1/1 [==============================] - 0s 8ms/step - loss: 7.2413 - mae: 7.2413\n",
            "Epoch 45/100\n",
            "1/1 [==============================] - 0s 9ms/step - loss: 7.2356 - mae: 7.2356\n",
            "Epoch 46/100\n",
            "1/1 [==============================] - 0s 9ms/step - loss: 7.2300 - mae: 7.2300\n",
            "Epoch 47/100\n",
            "1/1 [==============================] - 0s 8ms/step - loss: 7.2244 - mae: 7.2244\n",
            "Epoch 48/100\n",
            "1/1 [==============================] - 0s 7ms/step - loss: 7.2188 - mae: 7.2188\n",
            "Epoch 49/100\n",
            "1/1 [==============================] - 0s 8ms/step - loss: 7.2131 - mae: 7.2131\n",
            "Epoch 50/100\n",
            "1/1 [==============================] - 0s 9ms/step - loss: 7.2075 - mae: 7.2075\n",
            "Epoch 51/100\n",
            "1/1 [==============================] - 0s 7ms/step - loss: 7.2019 - mae: 7.2019\n",
            "Epoch 52/100\n",
            "1/1 [==============================] - 0s 9ms/step - loss: 7.1963 - mae: 7.1963\n",
            "Epoch 53/100\n",
            "1/1 [==============================] - 0s 7ms/step - loss: 7.1906 - mae: 7.1906\n",
            "Epoch 54/100\n",
            "1/1 [==============================] - 0s 8ms/step - loss: 7.1850 - mae: 7.1850\n",
            "Epoch 55/100\n",
            "1/1 [==============================] - 0s 8ms/step - loss: 7.1794 - mae: 7.1794\n",
            "Epoch 56/100\n",
            "1/1 [==============================] - 0s 9ms/step - loss: 7.1738 - mae: 7.1738\n",
            "Epoch 57/100\n",
            "1/1 [==============================] - 0s 9ms/step - loss: 7.1681 - mae: 7.1681\n",
            "Epoch 58/100\n",
            "1/1 [==============================] - 0s 12ms/step - loss: 7.1625 - mae: 7.1625\n",
            "Epoch 59/100\n",
            "1/1 [==============================] - 0s 11ms/step - loss: 7.1569 - mae: 7.1569\n",
            "Epoch 60/100\n",
            "1/1 [==============================] - 0s 13ms/step - loss: 7.1513 - mae: 7.1513\n",
            "Epoch 61/100\n",
            "1/1 [==============================] - 0s 8ms/step - loss: 7.1456 - mae: 7.1456\n",
            "Epoch 62/100\n",
            "1/1 [==============================] - 0s 8ms/step - loss: 7.1400 - mae: 7.1400\n",
            "Epoch 63/100\n",
            "1/1 [==============================] - 0s 11ms/step - loss: 7.1344 - mae: 7.1344\n",
            "Epoch 64/100\n",
            "1/1 [==============================] - 0s 6ms/step - loss: 7.1288 - mae: 7.1288\n",
            "Epoch 65/100\n",
            "1/1 [==============================] - 0s 7ms/step - loss: 7.1231 - mae: 7.1231\n",
            "Epoch 66/100\n",
            "1/1 [==============================] - 0s 7ms/step - loss: 7.1175 - mae: 7.1175\n",
            "Epoch 67/100\n",
            "1/1 [==============================] - 0s 7ms/step - loss: 7.1119 - mae: 7.1119\n",
            "Epoch 68/100\n",
            "1/1 [==============================] - 0s 7ms/step - loss: 7.1063 - mae: 7.1063\n",
            "Epoch 69/100\n",
            "1/1 [==============================] - 0s 7ms/step - loss: 7.1006 - mae: 7.1006\n",
            "Epoch 70/100\n",
            "1/1 [==============================] - 0s 7ms/step - loss: 7.0950 - mae: 7.0950\n",
            "Epoch 71/100\n",
            "1/1 [==============================] - 0s 11ms/step - loss: 7.0894 - mae: 7.0894\n",
            "Epoch 72/100\n",
            "1/1 [==============================] - 0s 7ms/step - loss: 7.0838 - mae: 7.0838\n",
            "Epoch 73/100\n",
            "1/1 [==============================] - 0s 7ms/step - loss: 7.0781 - mae: 7.0781\n",
            "Epoch 74/100\n",
            "1/1 [==============================] - 0s 7ms/step - loss: 7.0725 - mae: 7.0725\n",
            "Epoch 75/100\n",
            "1/1 [==============================] - 0s 7ms/step - loss: 7.0669 - mae: 7.0669\n",
            "Epoch 76/100\n",
            "1/1 [==============================] - 0s 7ms/step - loss: 7.0613 - mae: 7.0613\n",
            "Epoch 77/100\n",
            "1/1 [==============================] - 0s 7ms/step - loss: 7.0556 - mae: 7.0556\n",
            "Epoch 78/100\n",
            "1/1 [==============================] - 0s 7ms/step - loss: 7.0500 - mae: 7.0500\n",
            "Epoch 79/100\n",
            "1/1 [==============================] - 0s 6ms/step - loss: 7.0444 - mae: 7.0444\n",
            "Epoch 80/100\n",
            "1/1 [==============================] - 0s 6ms/step - loss: 7.0388 - mae: 7.0388\n",
            "Epoch 81/100\n",
            "1/1 [==============================] - 0s 6ms/step - loss: 7.0331 - mae: 7.0331\n",
            "Epoch 82/100\n",
            "1/1 [==============================] - 0s 6ms/step - loss: 7.0275 - mae: 7.0275\n",
            "Epoch 83/100\n",
            "1/1 [==============================] - 0s 6ms/step - loss: 7.0219 - mae: 7.0219\n",
            "Epoch 84/100\n",
            "1/1 [==============================] - 0s 6ms/step - loss: 7.0163 - mae: 7.0163\n",
            "Epoch 85/100\n",
            "1/1 [==============================] - 0s 6ms/step - loss: 7.0106 - mae: 7.0106\n",
            "Epoch 86/100\n",
            "1/1 [==============================] - 0s 6ms/step - loss: 7.0050 - mae: 7.0050\n",
            "Epoch 87/100\n",
            "1/1 [==============================] - 0s 6ms/step - loss: 6.9994 - mae: 6.9994\n",
            "Epoch 88/100\n",
            "1/1 [==============================] - 0s 6ms/step - loss: 6.9938 - mae: 6.9938\n",
            "Epoch 89/100\n",
            "1/1 [==============================] - 0s 7ms/step - loss: 6.9881 - mae: 6.9881\n",
            "Epoch 90/100\n",
            "1/1 [==============================] - 0s 13ms/step - loss: 6.9825 - mae: 6.9825\n",
            "Epoch 91/100\n",
            "1/1 [==============================] - 0s 7ms/step - loss: 6.9769 - mae: 6.9769\n",
            "Epoch 92/100\n",
            "1/1 [==============================] - 0s 7ms/step - loss: 6.9713 - mae: 6.9713\n",
            "Epoch 93/100\n",
            "1/1 [==============================] - 0s 6ms/step - loss: 6.9656 - mae: 6.9656\n",
            "Epoch 94/100\n",
            "1/1 [==============================] - 0s 8ms/step - loss: 6.9600 - mae: 6.9600\n",
            "Epoch 95/100\n",
            "1/1 [==============================] - 0s 6ms/step - loss: 6.9544 - mae: 6.9544\n",
            "Epoch 96/100\n",
            "1/1 [==============================] - 0s 6ms/step - loss: 6.9488 - mae: 6.9488\n",
            "Epoch 97/100\n",
            "1/1 [==============================] - 0s 7ms/step - loss: 6.9431 - mae: 6.9431\n",
            "Epoch 98/100\n",
            "1/1 [==============================] - 0s 6ms/step - loss: 6.9375 - mae: 6.9375\n",
            "Epoch 99/100\n",
            "1/1 [==============================] - 0s 7ms/step - loss: 6.9319 - mae: 6.9319\n",
            "Epoch 100/100\n",
            "1/1 [==============================] - 0s 6ms/step - loss: 6.9263 - mae: 6.9263\n"
          ]
        },
        {
          "output_type": "execute_result",
          "data": {
            "text/plain": [
              "<keras.callbacks.History at 0x7f53e95ec310>"
            ]
          },
          "metadata": {},
          "execution_count": 17
        }
      ]
    },
    {
      "cell_type": "code",
      "source": [
        "# Remind ourselves of the data\n",
        "X, y\n"
      ],
      "metadata": {
        "colab": {
          "base_uri": "https://localhost:8080/"
        },
        "id": "xRS991jpvAvR",
        "outputId": "3c0f228e-7219-4c29-de18-619d1c21985f"
      },
      "execution_count": 18,
      "outputs": [
        {
          "output_type": "execute_result",
          "data": {
            "text/plain": [
              "(<tf.Tensor: shape=(8,), dtype=float32, numpy=array([-7., -4., -1.,  2.,  5.,  8., 11., 14.], dtype=float32)>,\n",
              " <tf.Tensor: shape=(8,), dtype=float32, numpy=array([ 3.,  6.,  9., 12., 15., 18., 21., 24.], dtype=float32)>)"
            ]
          },
          "metadata": {},
          "execution_count": 18
        }
      ]
    },
    {
      "cell_type": "code",
      "source": [
        "# Let's see if our model's prediction has improved ...\n",
        "model.predict(tf.constant([17.0]))"
      ],
      "metadata": {
        "colab": {
          "base_uri": "https://localhost:8080/"
        },
        "id": "48AMZ9X1vUXh",
        "outputId": "09a370db-b4e6-44a3-84ab-8475d286f91d"
      },
      "execution_count": 19,
      "outputs": [
        {
          "output_type": "stream",
          "name": "stdout",
          "text": [
            "1/1 [==============================] - 0s 47ms/step\n"
          ]
        },
        {
          "output_type": "execute_result",
          "data": {
            "text/plain": [
              "array([[29.942198]], dtype=float32)"
            ]
          },
          "metadata": {},
          "execution_count": 19
        }
      ]
    },
    {
      "cell_type": "code",
      "source": [
        "# 1. Create a model (specified to your problem)\n",
        "model = tf.keras.Sequential([\n",
        "     tf.keras.layers.Dense(100, activation='relu'),\n",
        "     tf.keras.layers.Dense(100, activation='relu'),\n",
        "     tf.keras.layers.Dense(100, activation='relu'),\n",
        "     tf.keras.layers.Dense(1)\n",
        "     ])\n",
        "\n",
        "# 2. compile the model\n",
        "model.compile(loss=tf.keras.losses.mae,\n",
        "              optimizer=tf.keras.optimizers.SGD(),\n",
        "              metrics=['mae'])\n",
        "\n",
        "# 3. fit the model\n",
        "model.fit(tf.expand_dims(X, axis=-1), y, epochs=100)\n"
      ],
      "metadata": {
        "colab": {
          "base_uri": "https://localhost:8080/"
        },
        "id": "P4t8poXyo0Iw",
        "outputId": "f10ba4e0-6ad5-4d9b-c631-71d05f8c5069"
      },
      "execution_count": 20,
      "outputs": [
        {
          "output_type": "stream",
          "name": "stdout",
          "text": [
            "Epoch 1/100\n",
            "1/1 [==============================] - 0s 446ms/step - loss: 13.5608 - mae: 13.5608\n",
            "Epoch 2/100\n",
            "1/1 [==============================] - 0s 10ms/step - loss: 13.2291 - mae: 13.2291\n",
            "Epoch 3/100\n",
            "1/1 [==============================] - 0s 14ms/step - loss: 12.9672 - mae: 12.9672\n",
            "Epoch 4/100\n",
            "1/1 [==============================] - 0s 11ms/step - loss: 12.7151 - mae: 12.7151\n",
            "Epoch 5/100\n",
            "1/1 [==============================] - 0s 9ms/step - loss: 12.4320 - mae: 12.4320\n",
            "Epoch 6/100\n",
            "1/1 [==============================] - 0s 10ms/step - loss: 12.1084 - mae: 12.1084\n",
            "Epoch 7/100\n",
            "1/1 [==============================] - 0s 10ms/step - loss: 11.7280 - mae: 11.7280\n",
            "Epoch 8/100\n",
            "1/1 [==============================] - 0s 15ms/step - loss: 11.2886 - mae: 11.2886\n",
            "Epoch 9/100\n",
            "1/1 [==============================] - 0s 9ms/step - loss: 10.7673 - mae: 10.7673\n",
            "Epoch 10/100\n",
            "1/1 [==============================] - 0s 9ms/step - loss: 10.1103 - mae: 10.1103\n",
            "Epoch 11/100\n",
            "1/1 [==============================] - 0s 9ms/step - loss: 9.2534 - mae: 9.2534\n",
            "Epoch 12/100\n",
            "1/1 [==============================] - 0s 8ms/step - loss: 8.1419 - mae: 8.1419\n",
            "Epoch 13/100\n",
            "1/1 [==============================] - 0s 10ms/step - loss: 6.6971 - mae: 6.6971\n",
            "Epoch 14/100\n",
            "1/1 [==============================] - 0s 8ms/step - loss: 4.8223 - mae: 4.8223\n",
            "Epoch 15/100\n",
            "1/1 [==============================] - 0s 7ms/step - loss: 4.0664 - mae: 4.0664\n",
            "Epoch 16/100\n",
            "1/1 [==============================] - 0s 8ms/step - loss: 3.8572 - mae: 3.8572\n",
            "Epoch 17/100\n",
            "1/1 [==============================] - 0s 9ms/step - loss: 4.0427 - mae: 4.0427\n",
            "Epoch 18/100\n",
            "1/1 [==============================] - 0s 9ms/step - loss: 3.8687 - mae: 3.8687\n",
            "Epoch 19/100\n",
            "1/1 [==============================] - 0s 8ms/step - loss: 3.9944 - mae: 3.9944\n",
            "Epoch 20/100\n",
            "1/1 [==============================] - 0s 9ms/step - loss: 3.8815 - mae: 3.8815\n",
            "Epoch 21/100\n",
            "1/1 [==============================] - 0s 9ms/step - loss: 3.9448 - mae: 3.9448\n",
            "Epoch 22/100\n",
            "1/1 [==============================] - 0s 12ms/step - loss: 3.8959 - mae: 3.8959\n",
            "Epoch 23/100\n",
            "1/1 [==============================] - 0s 11ms/step - loss: 3.8932 - mae: 3.8932\n",
            "Epoch 24/100\n",
            "1/1 [==============================] - 0s 10ms/step - loss: 3.9108 - mae: 3.9108\n",
            "Epoch 25/100\n",
            "1/1 [==============================] - 0s 12ms/step - loss: 3.8413 - mae: 3.8413\n",
            "Epoch 26/100\n",
            "1/1 [==============================] - 0s 10ms/step - loss: 3.9258 - mae: 3.9258\n",
            "Epoch 27/100\n",
            "1/1 [==============================] - 0s 9ms/step - loss: 3.7893 - mae: 3.7893\n",
            "Epoch 28/100\n",
            "1/1 [==============================] - 0s 9ms/step - loss: 3.9435 - mae: 3.9435\n",
            "Epoch 29/100\n",
            "1/1 [==============================] - 0s 8ms/step - loss: 3.7426 - mae: 3.7426\n",
            "Epoch 30/100\n",
            "1/1 [==============================] - 0s 8ms/step - loss: 3.9474 - mae: 3.9474\n",
            "Epoch 31/100\n",
            "1/1 [==============================] - 0s 9ms/step - loss: 3.7947 - mae: 3.7947\n",
            "Epoch 32/100\n",
            "1/1 [==============================] - 0s 9ms/step - loss: 3.8640 - mae: 3.8640\n",
            "Epoch 33/100\n",
            "1/1 [==============================] - 0s 10ms/step - loss: 3.8120 - mae: 3.8120\n",
            "Epoch 34/100\n",
            "1/1 [==============================] - 0s 11ms/step - loss: 3.8071 - mae: 3.8071\n",
            "Epoch 35/100\n",
            "1/1 [==============================] - 0s 10ms/step - loss: 3.8313 - mae: 3.8313\n",
            "Epoch 36/100\n",
            "1/1 [==============================] - 0s 9ms/step - loss: 3.7486 - mae: 3.7486\n",
            "Epoch 37/100\n",
            "1/1 [==============================] - 0s 9ms/step - loss: 3.8512 - mae: 3.8512\n",
            "Epoch 38/100\n",
            "1/1 [==============================] - 0s 9ms/step - loss: 3.6894 - mae: 3.6894\n",
            "Epoch 39/100\n",
            "1/1 [==============================] - 0s 9ms/step - loss: 3.8730 - mae: 3.8730\n",
            "Epoch 40/100\n",
            "1/1 [==============================] - 0s 9ms/step - loss: 3.6758 - mae: 3.6758\n",
            "Epoch 41/100\n",
            "1/1 [==============================] - 0s 9ms/step - loss: 3.8425 - mae: 3.8425\n",
            "Epoch 42/100\n",
            "1/1 [==============================] - 0s 9ms/step - loss: 3.7308 - mae: 3.7308\n",
            "Epoch 43/100\n",
            "1/1 [==============================] - 0s 8ms/step - loss: 3.7520 - mae: 3.7520\n",
            "Epoch 44/100\n",
            "1/1 [==============================] - 0s 10ms/step - loss: 3.7525 - mae: 3.7525\n",
            "Epoch 45/100\n",
            "1/1 [==============================] - 0s 10ms/step - loss: 3.6888 - mae: 3.6888\n",
            "Epoch 46/100\n",
            "1/1 [==============================] - 0s 9ms/step - loss: 3.7765 - mae: 3.7765\n",
            "Epoch 47/100\n",
            "1/1 [==============================] - 0s 14ms/step - loss: 3.6233 - mae: 3.6233\n",
            "Epoch 48/100\n",
            "1/1 [==============================] - 0s 10ms/step - loss: 3.8010 - mae: 3.8010\n",
            "Epoch 49/100\n",
            "1/1 [==============================] - 0s 14ms/step - loss: 3.6087 - mae: 3.6087\n",
            "Epoch 50/100\n",
            "1/1 [==============================] - 0s 11ms/step - loss: 3.7626 - mae: 3.7626\n",
            "Epoch 51/100\n",
            "1/1 [==============================] - 0s 8ms/step - loss: 3.6343 - mae: 3.6343\n",
            "Epoch 52/100\n",
            "1/1 [==============================] - 0s 8ms/step - loss: 3.6965 - mae: 3.6965\n",
            "Epoch 53/100\n",
            "1/1 [==============================] - 0s 8ms/step - loss: 3.6937 - mae: 3.6937\n",
            "Epoch 54/100\n",
            "1/1 [==============================] - 0s 9ms/step - loss: 3.6069 - mae: 3.6069\n",
            "Epoch 55/100\n",
            "1/1 [==============================] - 0s 10ms/step - loss: 3.7198 - mae: 3.7198\n",
            "Epoch 56/100\n",
            "1/1 [==============================] - 0s 8ms/step - loss: 3.5369 - mae: 3.5369\n",
            "Epoch 57/100\n",
            "1/1 [==============================] - 0s 8ms/step - loss: 3.7466 - mae: 3.7466\n",
            "Epoch 58/100\n",
            "1/1 [==============================] - 0s 9ms/step - loss: 3.5561 - mae: 3.5561\n",
            "Epoch 59/100\n",
            "1/1 [==============================] - 0s 14ms/step - loss: 3.6710 - mae: 3.6710\n",
            "Epoch 60/100\n",
            "1/1 [==============================] - 0s 11ms/step - loss: 3.5838 - mae: 3.5838\n",
            "Epoch 61/100\n",
            "1/1 [==============================] - 0s 10ms/step - loss: 3.5994 - mae: 3.5994\n",
            "Epoch 62/100\n",
            "1/1 [==============================] - 0s 10ms/step - loss: 3.6128 - mae: 3.6128\n",
            "Epoch 63/100\n",
            "1/1 [==============================] - 0s 13ms/step - loss: 3.5256 - mae: 3.5256\n",
            "Epoch 64/100\n",
            "1/1 [==============================] - 0s 9ms/step - loss: 3.6429 - mae: 3.6429\n",
            "Epoch 65/100\n",
            "1/1 [==============================] - 0s 10ms/step - loss: 3.4617 - mae: 3.4617\n",
            "Epoch 66/100\n",
            "1/1 [==============================] - 0s 10ms/step - loss: 3.6737 - mae: 3.6737\n",
            "Epoch 67/100\n",
            "1/1 [==============================] - 0s 10ms/step - loss: 3.5219 - mae: 3.5219\n",
            "Epoch 68/100\n",
            "1/1 [==============================] - 0s 10ms/step - loss: 3.5553 - mae: 3.5553\n",
            "Epoch 69/100\n",
            "1/1 [==============================] - 0s 10ms/step - loss: 3.5514 - mae: 3.5514\n",
            "Epoch 70/100\n",
            "1/1 [==============================] - 0s 9ms/step - loss: 3.4777 - mae: 3.4777\n",
            "Epoch 71/100\n",
            "1/1 [==============================] - 0s 9ms/step - loss: 3.5831 - mae: 3.5831\n",
            "Epoch 72/100\n",
            "1/1 [==============================] - 0s 8ms/step - loss: 3.4043 - mae: 3.4043\n",
            "Epoch 73/100\n",
            "1/1 [==============================] - 0s 8ms/step - loss: 3.5971 - mae: 3.5971\n",
            "Epoch 74/100\n",
            "1/1 [==============================] - 0s 8ms/step - loss: 3.4356 - mae: 3.4356\n",
            "Epoch 75/100\n",
            "1/1 [==============================] - 0s 8ms/step - loss: 3.5185 - mae: 3.5185\n",
            "Epoch 76/100\n",
            "1/1 [==============================] - 0s 8ms/step - loss: 3.4681 - mae: 3.4681\n",
            "Epoch 77/100\n",
            "1/1 [==============================] - 0s 8ms/step - loss: 3.4367 - mae: 3.4367\n",
            "Epoch 78/100\n",
            "1/1 [==============================] - 0s 7ms/step - loss: 3.5343 - mae: 3.5343\n",
            "Epoch 79/100\n",
            "1/1 [==============================] - 0s 8ms/step - loss: 3.3572 - mae: 3.3572\n",
            "Epoch 80/100\n",
            "1/1 [==============================] - 0s 7ms/step - loss: 3.5295 - mae: 3.5295\n",
            "Epoch 81/100\n",
            "1/1 [==============================] - 0s 8ms/step - loss: 3.3886 - mae: 3.3886\n",
            "Epoch 82/100\n",
            "1/1 [==============================] - 0s 8ms/step - loss: 3.4462 - mae: 3.4462\n",
            "Epoch 83/100\n",
            "1/1 [==============================] - 0s 7ms/step - loss: 3.4215 - mae: 3.4215\n",
            "Epoch 84/100\n",
            "1/1 [==============================] - 0s 7ms/step - loss: 3.3605 - mae: 3.3605\n",
            "Epoch 85/100\n",
            "1/1 [==============================] - 0s 6ms/step - loss: 3.4572 - mae: 3.4572\n",
            "Epoch 86/100\n",
            "1/1 [==============================] - 0s 7ms/step - loss: 3.2842 - mae: 3.2842\n",
            "Epoch 87/100\n",
            "1/1 [==============================] - 0s 8ms/step - loss: 3.4680 - mae: 3.4680\n",
            "Epoch 88/100\n",
            "1/1 [==============================] - 0s 8ms/step - loss: 3.3189 - mae: 3.3189\n",
            "Epoch 89/100\n",
            "1/1 [==============================] - 0s 8ms/step - loss: 3.3791 - mae: 3.3791\n",
            "Epoch 90/100\n",
            "1/1 [==============================] - 0s 12ms/step - loss: 3.3537 - mae: 3.3537\n",
            "Epoch 91/100\n",
            "1/1 [==============================] - 0s 9ms/step - loss: 3.2938 - mae: 3.2938\n",
            "Epoch 92/100\n",
            "1/1 [==============================] - 0s 7ms/step - loss: 3.4216 - mae: 3.4216\n",
            "Epoch 93/100\n",
            "1/1 [==============================] - 0s 7ms/step - loss: 3.2476 - mae: 3.2476\n",
            "Epoch 94/100\n",
            "1/1 [==============================] - 0s 8ms/step - loss: 3.3705 - mae: 3.3705\n",
            "Epoch 95/100\n",
            "1/1 [==============================] - 0s 8ms/step - loss: 3.2826 - mae: 3.2826\n",
            "Epoch 96/100\n",
            "1/1 [==============================] - 0s 7ms/step - loss: 3.2760 - mae: 3.2760\n",
            "Epoch 97/100\n",
            "1/1 [==============================] - 0s 7ms/step - loss: 3.3194 - mae: 3.3194\n",
            "Epoch 98/100\n",
            "1/1 [==============================] - 0s 8ms/step - loss: 3.1779 - mae: 3.1779\n",
            "Epoch 99/100\n",
            "1/1 [==============================] - 0s 11ms/step - loss: 3.3595 - mae: 3.3595\n",
            "Epoch 100/100\n",
            "1/1 [==============================] - 0s 8ms/step - loss: 3.1876 - mae: 3.1876\n"
          ]
        },
        {
          "output_type": "execute_result",
          "data": {
            "text/plain": [
              "<keras.callbacks.History at 0x7f53e95a10d0>"
            ]
          },
          "metadata": {},
          "execution_count": 20
        }
      ]
    },
    {
      "cell_type": "code",
      "source": [
        "# let's predict our model output\n",
        "model.predict(tf.constant([17.0]))"
      ],
      "metadata": {
        "colab": {
          "base_uri": "https://localhost:8080/"
        },
        "id": "Np9_kZPRwOTM",
        "outputId": "7b74e5cd-2e37-4406-e2f7-c3e5da25390b"
      },
      "execution_count": 21,
      "outputs": [
        {
          "output_type": "stream",
          "name": "stdout",
          "text": [
            "1/1 [==============================] - 0s 59ms/step\n"
          ]
        },
        {
          "output_type": "execute_result",
          "data": {
            "text/plain": [
              "array([[29.677929]], dtype=float32)"
            ]
          },
          "metadata": {},
          "execution_count": 21
        }
      ]
    },
    {
      "cell_type": "code",
      "source": [
        " # 1. Create a model (specified to your problem)\n",
        "model = tf.keras.Sequential([\n",
        "     tf.keras.layers.Dense(100, activation='relu'),\n",
        "     tf.keras.layers.Dense(100, activation='relu'),\n",
        "     tf.keras.layers.Dense(100, activation='relu'),\n",
        "     tf.keras.layers.Dense(1)\n",
        "     ])\n",
        "\n",
        "# 2. compile the model\n",
        "model.compile(loss=tf.keras.losses.mae,\n",
        "              optimizer=tf.keras.optimizers.Adam(),\n",
        "              metrics=['mae'])\n",
        "\n",
        "# 3. fit the model\n",
        "model.fit(tf.expand_dims(X, axis=-1), y, epochs=100)\n"
      ],
      "metadata": {
        "colab": {
          "base_uri": "https://localhost:8080/"
        },
        "id": "SUen0D3bwJiB",
        "outputId": "268a0089-d4d8-4583-8b22-e0758dda0bbb"
      },
      "execution_count": 22,
      "outputs": [
        {
          "output_type": "stream",
          "name": "stdout",
          "text": [
            "Epoch 1/100\n",
            "1/1 [==============================] - 1s 691ms/step - loss: 13.3247 - mae: 13.3247\n",
            "Epoch 2/100\n",
            "1/1 [==============================] - 0s 10ms/step - loss: 12.9756 - mae: 12.9756\n",
            "Epoch 3/100\n",
            "1/1 [==============================] - 0s 8ms/step - loss: 12.6304 - mae: 12.6304\n",
            "Epoch 4/100\n",
            "1/1 [==============================] - 0s 11ms/step - loss: 12.2834 - mae: 12.2834\n",
            "Epoch 5/100\n",
            "1/1 [==============================] - 0s 11ms/step - loss: 11.9503 - mae: 11.9503\n",
            "Epoch 6/100\n",
            "1/1 [==============================] - 0s 11ms/step - loss: 11.6144 - mae: 11.6144\n",
            "Epoch 7/100\n",
            "1/1 [==============================] - 0s 14ms/step - loss: 11.2701 - mae: 11.2701\n",
            "Epoch 8/100\n",
            "1/1 [==============================] - 0s 8ms/step - loss: 10.9312 - mae: 10.9312\n",
            "Epoch 9/100\n",
            "1/1 [==============================] - 0s 8ms/step - loss: 10.6781 - mae: 10.6781\n",
            "Epoch 10/100\n",
            "1/1 [==============================] - 0s 9ms/step - loss: 10.4104 - mae: 10.4104\n",
            "Epoch 11/100\n",
            "1/1 [==============================] - 0s 11ms/step - loss: 10.1298 - mae: 10.1298\n",
            "Epoch 12/100\n",
            "1/1 [==============================] - 0s 9ms/step - loss: 9.8313 - mae: 9.8313\n",
            "Epoch 13/100\n",
            "1/1 [==============================] - 0s 11ms/step - loss: 9.5123 - mae: 9.5123\n",
            "Epoch 14/100\n",
            "1/1 [==============================] - 0s 11ms/step - loss: 9.1716 - mae: 9.1716\n",
            "Epoch 15/100\n",
            "1/1 [==============================] - 0s 10ms/step - loss: 8.8113 - mae: 8.8113\n",
            "Epoch 16/100\n",
            "1/1 [==============================] - 0s 8ms/step - loss: 8.4340 - mae: 8.4340\n",
            "Epoch 17/100\n",
            "1/1 [==============================] - 0s 14ms/step - loss: 8.0373 - mae: 8.0373\n",
            "Epoch 18/100\n",
            "1/1 [==============================] - 0s 10ms/step - loss: 7.6161 - mae: 7.6161\n",
            "Epoch 19/100\n",
            "1/1 [==============================] - 0s 9ms/step - loss: 7.1673 - mae: 7.1673\n",
            "Epoch 20/100\n",
            "1/1 [==============================] - 0s 9ms/step - loss: 6.7007 - mae: 6.7007\n",
            "Epoch 21/100\n",
            "1/1 [==============================] - 0s 11ms/step - loss: 6.2027 - mae: 6.2027\n",
            "Epoch 22/100\n",
            "1/1 [==============================] - 0s 8ms/step - loss: 5.6739 - mae: 5.6739\n",
            "Epoch 23/100\n",
            "1/1 [==============================] - 0s 7ms/step - loss: 5.1125 - mae: 5.1125\n",
            "Epoch 24/100\n",
            "1/1 [==============================] - 0s 7ms/step - loss: 4.5128 - mae: 4.5128\n",
            "Epoch 25/100\n",
            "1/1 [==============================] - 0s 8ms/step - loss: 4.0942 - mae: 4.0942\n",
            "Epoch 26/100\n",
            "1/1 [==============================] - 0s 8ms/step - loss: 3.9041 - mae: 3.9041\n",
            "Epoch 27/100\n",
            "1/1 [==============================] - 0s 9ms/step - loss: 4.0316 - mae: 4.0316\n",
            "Epoch 28/100\n",
            "1/1 [==============================] - 0s 9ms/step - loss: 4.1429 - mae: 4.1429\n",
            "Epoch 29/100\n",
            "1/1 [==============================] - 0s 9ms/step - loss: 4.2376 - mae: 4.2376\n",
            "Epoch 30/100\n",
            "1/1 [==============================] - 0s 9ms/step - loss: 4.4395 - mae: 4.4395\n",
            "Epoch 31/100\n",
            "1/1 [==============================] - 0s 8ms/step - loss: 4.5774 - mae: 4.5774\n",
            "Epoch 32/100\n",
            "1/1 [==============================] - 0s 7ms/step - loss: 4.6355 - mae: 4.6355\n",
            "Epoch 33/100\n",
            "1/1 [==============================] - 0s 9ms/step - loss: 4.6258 - mae: 4.6258\n",
            "Epoch 34/100\n",
            "1/1 [==============================] - 0s 7ms/step - loss: 4.5575 - mae: 4.5575\n",
            "Epoch 35/100\n",
            "1/1 [==============================] - 0s 7ms/step - loss: 4.4395 - mae: 4.4395\n",
            "Epoch 36/100\n",
            "1/1 [==============================] - 0s 8ms/step - loss: 4.2790 - mae: 4.2790\n",
            "Epoch 37/100\n",
            "1/1 [==============================] - 0s 8ms/step - loss: 4.1316 - mae: 4.1316\n",
            "Epoch 38/100\n",
            "1/1 [==============================] - 0s 8ms/step - loss: 4.0544 - mae: 4.0544\n",
            "Epoch 39/100\n",
            "1/1 [==============================] - 0s 7ms/step - loss: 3.9770 - mae: 3.9770\n",
            "Epoch 40/100\n",
            "1/1 [==============================] - 0s 8ms/step - loss: 3.9007 - mae: 3.9007\n",
            "Epoch 41/100\n",
            "1/1 [==============================] - 0s 9ms/step - loss: 3.8257 - mae: 3.8257\n",
            "Epoch 42/100\n",
            "1/1 [==============================] - 0s 9ms/step - loss: 3.7520 - mae: 3.7520\n",
            "Epoch 43/100\n",
            "1/1 [==============================] - 0s 7ms/step - loss: 3.7764 - mae: 3.7764\n",
            "Epoch 44/100\n",
            "1/1 [==============================] - 0s 11ms/step - loss: 3.8283 - mae: 3.8283\n",
            "Epoch 45/100\n",
            "1/1 [==============================] - 0s 8ms/step - loss: 3.8626 - mae: 3.8626\n",
            "Epoch 46/100\n",
            "1/1 [==============================] - 0s 9ms/step - loss: 3.9049 - mae: 3.9049\n",
            "Epoch 47/100\n",
            "1/1 [==============================] - 0s 9ms/step - loss: 3.9052 - mae: 3.9052\n",
            "Epoch 48/100\n",
            "1/1 [==============================] - 0s 8ms/step - loss: 3.8915 - mae: 3.8915\n",
            "Epoch 49/100\n",
            "1/1 [==============================] - 0s 10ms/step - loss: 3.8801 - mae: 3.8801\n",
            "Epoch 50/100\n",
            "1/1 [==============================] - 0s 11ms/step - loss: 3.8575 - mae: 3.8575\n",
            "Epoch 51/100\n",
            "1/1 [==============================] - 0s 8ms/step - loss: 3.8236 - mae: 3.8236\n",
            "Epoch 52/100\n",
            "1/1 [==============================] - 0s 8ms/step - loss: 3.7797 - mae: 3.7797\n",
            "Epoch 53/100\n",
            "1/1 [==============================] - 0s 10ms/step - loss: 3.7255 - mae: 3.7255\n",
            "Epoch 54/100\n",
            "1/1 [==============================] - 0s 10ms/step - loss: 3.6628 - mae: 3.6628\n",
            "Epoch 55/100\n",
            "1/1 [==============================] - 0s 10ms/step - loss: 3.6541 - mae: 3.6541\n",
            "Epoch 56/100\n",
            "1/1 [==============================] - 0s 14ms/step - loss: 3.6786 - mae: 3.6786\n",
            "Epoch 57/100\n",
            "1/1 [==============================] - 0s 13ms/step - loss: 3.6926 - mae: 3.6926\n",
            "Epoch 58/100\n",
            "1/1 [==============================] - 0s 10ms/step - loss: 3.6960 - mae: 3.6960\n",
            "Epoch 59/100\n",
            "1/1 [==============================] - 0s 12ms/step - loss: 3.6899 - mae: 3.6899\n",
            "Epoch 60/100\n",
            "1/1 [==============================] - 0s 9ms/step - loss: 3.6754 - mae: 3.6754\n",
            "Epoch 61/100\n",
            "1/1 [==============================] - 0s 8ms/step - loss: 3.6532 - mae: 3.6532\n",
            "Epoch 62/100\n",
            "1/1 [==============================] - 0s 11ms/step - loss: 3.6223 - mae: 3.6223\n",
            "Epoch 63/100\n",
            "1/1 [==============================] - 0s 9ms/step - loss: 3.6238 - mae: 3.6238\n",
            "Epoch 64/100\n",
            "1/1 [==============================] - 0s 9ms/step - loss: 3.5842 - mae: 3.5842\n",
            "Epoch 65/100\n",
            "1/1 [==============================] - 0s 12ms/step - loss: 3.5232 - mae: 3.5232\n",
            "Epoch 66/100\n",
            "1/1 [==============================] - 0s 10ms/step - loss: 3.5372 - mae: 3.5372\n",
            "Epoch 67/100\n",
            "1/1 [==============================] - 0s 10ms/step - loss: 3.5519 - mae: 3.5519\n",
            "Epoch 68/100\n",
            "1/1 [==============================] - 0s 11ms/step - loss: 3.5480 - mae: 3.5480\n",
            "Epoch 69/100\n",
            "1/1 [==============================] - 0s 9ms/step - loss: 3.5260 - mae: 3.5260\n",
            "Epoch 70/100\n",
            "1/1 [==============================] - 0s 9ms/step - loss: 3.4872 - mae: 3.4872\n",
            "Epoch 71/100\n",
            "1/1 [==============================] - 0s 9ms/step - loss: 3.4652 - mae: 3.4652\n",
            "Epoch 72/100\n",
            "1/1 [==============================] - 0s 9ms/step - loss: 3.4669 - mae: 3.4669\n",
            "Epoch 73/100\n",
            "1/1 [==============================] - 0s 10ms/step - loss: 3.4592 - mae: 3.4592\n",
            "Epoch 74/100\n",
            "1/1 [==============================] - 0s 10ms/step - loss: 3.4431 - mae: 3.4431\n",
            "Epoch 75/100\n",
            "1/1 [==============================] - 0s 9ms/step - loss: 3.4172 - mae: 3.4172\n",
            "Epoch 76/100\n",
            "1/1 [==============================] - 0s 9ms/step - loss: 3.3862 - mae: 3.3862\n",
            "Epoch 77/100\n",
            "1/1 [==============================] - 0s 8ms/step - loss: 3.3590 - mae: 3.3590\n",
            "Epoch 78/100\n",
            "1/1 [==============================] - 0s 9ms/step - loss: 3.3695 - mae: 3.3695\n",
            "Epoch 79/100\n",
            "1/1 [==============================] - 0s 9ms/step - loss: 3.3211 - mae: 3.3211\n",
            "Epoch 80/100\n",
            "1/1 [==============================] - 0s 10ms/step - loss: 3.3071 - mae: 3.3071\n",
            "Epoch 81/100\n",
            "1/1 [==============================] - 0s 10ms/step - loss: 3.2981 - mae: 3.2981\n",
            "Epoch 82/100\n",
            "1/1 [==============================] - 0s 10ms/step - loss: 3.2693 - mae: 3.2693\n",
            "Epoch 83/100\n",
            "1/1 [==============================] - 0s 9ms/step - loss: 3.2471 - mae: 3.2471\n",
            "Epoch 84/100\n",
            "1/1 [==============================] - 0s 10ms/step - loss: 3.2389 - mae: 3.2389\n",
            "Epoch 85/100\n",
            "1/1 [==============================] - 0s 9ms/step - loss: 3.2228 - mae: 3.2228\n",
            "Epoch 86/100\n",
            "1/1 [==============================] - 0s 9ms/step - loss: 3.1935 - mae: 3.1935\n",
            "Epoch 87/100\n",
            "1/1 [==============================] - 0s 8ms/step - loss: 3.1638 - mae: 3.1638\n",
            "Epoch 88/100\n",
            "1/1 [==============================] - 0s 9ms/step - loss: 3.1752 - mae: 3.1752\n",
            "Epoch 89/100\n",
            "1/1 [==============================] - 0s 8ms/step - loss: 3.1552 - mae: 3.1552\n",
            "Epoch 90/100\n",
            "1/1 [==============================] - 0s 8ms/step - loss: 3.1025 - mae: 3.1025\n",
            "Epoch 91/100\n",
            "1/1 [==============================] - 0s 8ms/step - loss: 3.1073 - mae: 3.1073\n",
            "Epoch 92/100\n",
            "1/1 [==============================] - 0s 8ms/step - loss: 3.1009 - mae: 3.1009\n",
            "Epoch 93/100\n",
            "1/1 [==============================] - 0s 8ms/step - loss: 3.0788 - mae: 3.0788\n",
            "Epoch 94/100\n",
            "1/1 [==============================] - 0s 9ms/step - loss: 3.0425 - mae: 3.0425\n",
            "Epoch 95/100\n",
            "1/1 [==============================] - 0s 9ms/step - loss: 2.9954 - mae: 2.9954\n",
            "Epoch 96/100\n",
            "1/1 [==============================] - 0s 9ms/step - loss: 2.9426 - mae: 2.9426\n",
            "Epoch 97/100\n",
            "1/1 [==============================] - 0s 9ms/step - loss: 2.9591 - mae: 2.9591\n",
            "Epoch 98/100\n",
            "1/1 [==============================] - 0s 10ms/step - loss: 2.9507 - mae: 2.9507\n",
            "Epoch 99/100\n",
            "1/1 [==============================] - 0s 9ms/step - loss: 2.9062 - mae: 2.9062\n",
            "Epoch 100/100\n",
            "1/1 [==============================] - 0s 8ms/step - loss: 2.8289 - mae: 2.8289\n"
          ]
        },
        {
          "output_type": "execute_result",
          "data": {
            "text/plain": [
              "<keras.callbacks.History at 0x7f53e8f46760>"
            ]
          },
          "metadata": {},
          "execution_count": 22
        }
      ]
    },
    {
      "cell_type": "code",
      "source": [
        "# let's predict our model output\n",
        "model.predict(tf.constant([17.0]))"
      ],
      "metadata": {
        "colab": {
          "base_uri": "https://localhost:8080/"
        },
        "id": "2CJALPtCwjSI",
        "outputId": "c12e0775-4d22-4bc3-a9f4-20d024f7e698"
      },
      "execution_count": 23,
      "outputs": [
        {
          "output_type": "stream",
          "name": "stdout",
          "text": [
            "1/1 [==============================] - 0s 53ms/step\n"
          ]
        },
        {
          "output_type": "execute_result",
          "data": {
            "text/plain": [
              "array([[31.597044]], dtype=float32)"
            ]
          },
          "metadata": {},
          "execution_count": 23
        }
      ]
    },
    {
      "cell_type": "code",
      "source": [
        " # 1. Create a model (specified to your problem)\n",
        "model = tf.keras.Sequential([\n",
        "     tf.keras.layers.Dense(100, activation='relu'),\n",
        "     tf.keras.layers.Dense(100, activation='relu'),\n",
        "     tf.keras.layers.Dense(100, activation='relu'),\n",
        "     tf.keras.layers.Dense(1)\n",
        "     ])\n",
        "\n",
        "# 2. compile the model\n",
        "model.compile(loss=tf.keras.losses.mae,\n",
        "              optimizer=tf.keras.optimizers.Adam(lr=0.0001),\n",
        "              metrics=['mae'])\n",
        "\n",
        "# 3. fit the model\n",
        "model.fit(tf.expand_dims(X, axis=-1), y, epochs=200)\n"
      ],
      "metadata": {
        "colab": {
          "base_uri": "https://localhost:8080/"
        },
        "id": "YyQt7393wn_r",
        "outputId": "cd2a392f-e12a-4d09-90fc-a6772eac4a0e"
      },
      "execution_count": 24,
      "outputs": [
        {
          "output_type": "stream",
          "name": "stderr",
          "text": [
            "WARNING:absl:`lr` is deprecated in Keras optimizer, please use `learning_rate` or use the legacy optimizer, e.g.,tf.keras.optimizers.legacy.Adam.\n"
          ]
        },
        {
          "output_type": "stream",
          "name": "stdout",
          "text": [
            "Epoch 1/200\n",
            "1/1 [==============================] - 1s 674ms/step - loss: 13.4511 - mae: 13.4511\n",
            "Epoch 2/200\n",
            "1/1 [==============================] - 0s 8ms/step - loss: 13.1577 - mae: 13.1577\n",
            "Epoch 3/200\n",
            "1/1 [==============================] - 0s 8ms/step - loss: 12.8692 - mae: 12.8692\n",
            "Epoch 4/200\n",
            "1/1 [==============================] - 0s 8ms/step - loss: 12.5968 - mae: 12.5968\n",
            "Epoch 5/200\n",
            "1/1 [==============================] - 0s 7ms/step - loss: 12.3266 - mae: 12.3266\n",
            "Epoch 6/200\n",
            "1/1 [==============================] - 0s 8ms/step - loss: 12.0583 - mae: 12.0583\n",
            "Epoch 7/200\n",
            "1/1 [==============================] - 0s 7ms/step - loss: 11.7887 - mae: 11.7887\n",
            "Epoch 8/200\n",
            "1/1 [==============================] - 0s 7ms/step - loss: 11.5337 - mae: 11.5337\n",
            "Epoch 9/200\n",
            "1/1 [==============================] - 0s 7ms/step - loss: 11.3341 - mae: 11.3341\n",
            "Epoch 10/200\n",
            "1/1 [==============================] - 0s 8ms/step - loss: 11.1282 - mae: 11.1282\n",
            "Epoch 11/200\n",
            "1/1 [==============================] - 0s 10ms/step - loss: 10.9128 - mae: 10.9128\n",
            "Epoch 12/200\n",
            "1/1 [==============================] - 0s 10ms/step - loss: 10.6871 - mae: 10.6871\n",
            "Epoch 13/200\n",
            "1/1 [==============================] - 0s 9ms/step - loss: 10.4480 - mae: 10.4480\n",
            "Epoch 14/200\n",
            "1/1 [==============================] - 0s 9ms/step - loss: 10.1931 - mae: 10.1931\n",
            "Epoch 15/200\n",
            "1/1 [==============================] - 0s 8ms/step - loss: 9.9160 - mae: 9.9160\n",
            "Epoch 16/200\n",
            "1/1 [==============================] - 0s 12ms/step - loss: 9.6181 - mae: 9.6181\n",
            "Epoch 17/200\n",
            "1/1 [==============================] - 0s 8ms/step - loss: 9.2915 - mae: 9.2915\n",
            "Epoch 18/200\n",
            "1/1 [==============================] - 0s 7ms/step - loss: 8.9411 - mae: 8.9411\n",
            "Epoch 19/200\n",
            "1/1 [==============================] - 0s 12ms/step - loss: 8.5639 - mae: 8.5639\n",
            "Epoch 20/200\n",
            "1/1 [==============================] - 0s 8ms/step - loss: 8.1595 - mae: 8.1595\n",
            "Epoch 21/200\n",
            "1/1 [==============================] - 0s 11ms/step - loss: 7.7270 - mae: 7.7270\n",
            "Epoch 22/200\n",
            "1/1 [==============================] - 0s 8ms/step - loss: 7.2638 - mae: 7.2638\n",
            "Epoch 23/200\n",
            "1/1 [==============================] - 0s 7ms/step - loss: 6.7667 - mae: 6.7667\n",
            "Epoch 24/200\n",
            "1/1 [==============================] - 0s 9ms/step - loss: 6.2312 - mae: 6.2312\n",
            "Epoch 25/200\n",
            "1/1 [==============================] - 0s 9ms/step - loss: 5.6581 - mae: 5.6581\n",
            "Epoch 26/200\n",
            "1/1 [==============================] - 0s 9ms/step - loss: 5.0473 - mae: 5.0473\n",
            "Epoch 27/200\n",
            "1/1 [==============================] - 0s 9ms/step - loss: 4.4010 - mae: 4.4010\n",
            "Epoch 28/200\n",
            "1/1 [==============================] - 0s 8ms/step - loss: 4.0040 - mae: 4.0040\n",
            "Epoch 29/200\n",
            "1/1 [==============================] - 0s 9ms/step - loss: 3.8833 - mae: 3.8833\n",
            "Epoch 30/200\n",
            "1/1 [==============================] - 0s 12ms/step - loss: 4.0190 - mae: 4.0190\n",
            "Epoch 31/200\n",
            "1/1 [==============================] - 0s 8ms/step - loss: 4.1375 - mae: 4.1375\n",
            "Epoch 32/200\n",
            "1/1 [==============================] - 0s 9ms/step - loss: 4.3303 - mae: 4.3303\n",
            "Epoch 33/200\n",
            "1/1 [==============================] - 0s 8ms/step - loss: 4.5243 - mae: 4.5243\n",
            "Epoch 34/200\n",
            "1/1 [==============================] - 0s 12ms/step - loss: 4.6335 - mae: 4.6335\n",
            "Epoch 35/200\n",
            "1/1 [==============================] - 0s 11ms/step - loss: 4.6606 - mae: 4.6606\n",
            "Epoch 36/200\n",
            "1/1 [==============================] - 0s 12ms/step - loss: 4.6216 - mae: 4.6216\n",
            "Epoch 37/200\n",
            "1/1 [==============================] - 0s 12ms/step - loss: 4.5251 - mae: 4.5251\n",
            "Epoch 38/200\n",
            "1/1 [==============================] - 0s 11ms/step - loss: 4.3807 - mae: 4.3807\n",
            "Epoch 39/200\n",
            "1/1 [==============================] - 0s 9ms/step - loss: 4.1969 - mae: 4.1969\n",
            "Epoch 40/200\n",
            "1/1 [==============================] - 0s 9ms/step - loss: 4.0507 - mae: 4.0507\n",
            "Epoch 41/200\n",
            "1/1 [==============================] - 0s 8ms/step - loss: 3.9668 - mae: 3.9668\n",
            "Epoch 42/200\n",
            "1/1 [==============================] - 0s 8ms/step - loss: 3.8841 - mae: 3.8841\n",
            "Epoch 43/200\n",
            "1/1 [==============================] - 0s 7ms/step - loss: 3.8023 - mae: 3.8023\n",
            "Epoch 44/200\n",
            "1/1 [==============================] - 0s 7ms/step - loss: 3.7227 - mae: 3.7227\n",
            "Epoch 45/200\n",
            "1/1 [==============================] - 0s 7ms/step - loss: 3.7210 - mae: 3.7210\n",
            "Epoch 46/200\n",
            "1/1 [==============================] - 0s 7ms/step - loss: 3.8109 - mae: 3.8109\n",
            "Epoch 47/200\n",
            "1/1 [==============================] - 0s 8ms/step - loss: 3.8483 - mae: 3.8483\n",
            "Epoch 48/200\n",
            "1/1 [==============================] - 0s 7ms/step - loss: 3.8545 - mae: 3.8545\n",
            "Epoch 49/200\n",
            "1/1 [==============================] - 0s 8ms/step - loss: 3.8700 - mae: 3.8700\n",
            "Epoch 50/200\n",
            "1/1 [==============================] - 0s 8ms/step - loss: 3.8717 - mae: 3.8717\n",
            "Epoch 51/200\n",
            "1/1 [==============================] - 0s 10ms/step - loss: 3.8614 - mae: 3.8614\n",
            "Epoch 52/200\n",
            "1/1 [==============================] - 0s 8ms/step - loss: 3.8399 - mae: 3.8399\n",
            "Epoch 53/200\n",
            "1/1 [==============================] - 0s 9ms/step - loss: 3.8078 - mae: 3.8078\n",
            "Epoch 54/200\n",
            "1/1 [==============================] - 0s 9ms/step - loss: 3.7662 - mae: 3.7662\n",
            "Epoch 55/200\n",
            "1/1 [==============================] - 0s 10ms/step - loss: 3.7153 - mae: 3.7153\n",
            "Epoch 56/200\n",
            "1/1 [==============================] - 0s 9ms/step - loss: 3.6551 - mae: 3.6551\n",
            "Epoch 57/200\n",
            "1/1 [==============================] - 0s 9ms/step - loss: 3.5864 - mae: 3.5864\n",
            "Epoch 58/200\n",
            "1/1 [==============================] - 0s 9ms/step - loss: 3.6203 - mae: 3.6203\n",
            "Epoch 59/200\n",
            "1/1 [==============================] - 0s 9ms/step - loss: 3.6426 - mae: 3.6426\n",
            "Epoch 60/200\n",
            "1/1 [==============================] - 0s 10ms/step - loss: 3.6537 - mae: 3.6537\n",
            "Epoch 61/200\n",
            "1/1 [==============================] - 0s 9ms/step - loss: 3.6558 - mae: 3.6558\n",
            "Epoch 62/200\n",
            "1/1 [==============================] - 0s 9ms/step - loss: 3.6495 - mae: 3.6495\n",
            "Epoch 63/200\n",
            "1/1 [==============================] - 0s 9ms/step - loss: 3.6349 - mae: 3.6349\n",
            "Epoch 64/200\n",
            "1/1 [==============================] - 0s 11ms/step - loss: 3.6424 - mae: 3.6424\n",
            "Epoch 65/200\n",
            "1/1 [==============================] - 0s 9ms/step - loss: 3.6055 - mae: 3.6055\n",
            "Epoch 66/200\n",
            "1/1 [==============================] - 0s 9ms/step - loss: 3.5636 - mae: 3.5636\n",
            "Epoch 67/200\n",
            "1/1 [==============================] - 0s 9ms/step - loss: 3.5297 - mae: 3.5297\n",
            "Epoch 68/200\n",
            "1/1 [==============================] - 0s 9ms/step - loss: 3.4909 - mae: 3.4909\n",
            "Epoch 69/200\n",
            "1/1 [==============================] - 0s 9ms/step - loss: 3.4545 - mae: 3.4545\n",
            "Epoch 70/200\n",
            "1/1 [==============================] - 0s 8ms/step - loss: 3.4588 - mae: 3.4588\n",
            "Epoch 71/200\n",
            "1/1 [==============================] - 0s 8ms/step - loss: 3.4740 - mae: 3.4740\n",
            "Epoch 72/200\n",
            "1/1 [==============================] - 0s 8ms/step - loss: 3.4676 - mae: 3.4676\n",
            "Epoch 73/200\n",
            "1/1 [==============================] - 0s 8ms/step - loss: 3.4421 - mae: 3.4421\n",
            "Epoch 74/200\n",
            "1/1 [==============================] - 0s 7ms/step - loss: 3.3990 - mae: 3.3990\n",
            "Epoch 75/200\n",
            "1/1 [==============================] - 0s 7ms/step - loss: 3.3658 - mae: 3.3658\n",
            "Epoch 76/200\n",
            "1/1 [==============================] - 0s 8ms/step - loss: 3.3642 - mae: 3.3642\n",
            "Epoch 77/200\n",
            "1/1 [==============================] - 0s 8ms/step - loss: 3.3506 - mae: 3.3506\n",
            "Epoch 78/200\n",
            "1/1 [==============================] - 0s 7ms/step - loss: 3.3300 - mae: 3.3300\n",
            "Epoch 79/200\n",
            "1/1 [==============================] - 0s 8ms/step - loss: 3.3001 - mae: 3.3001\n",
            "Epoch 80/200\n",
            "1/1 [==============================] - 0s 8ms/step - loss: 3.2630 - mae: 3.2630\n",
            "Epoch 81/200\n",
            "1/1 [==============================] - 0s 11ms/step - loss: 3.2348 - mae: 3.2348\n",
            "Epoch 82/200\n",
            "1/1 [==============================] - 0s 8ms/step - loss: 3.2434 - mae: 3.2434\n",
            "Epoch 83/200\n",
            "1/1 [==============================] - 0s 8ms/step - loss: 3.1867 - mae: 3.1867\n",
            "Epoch 84/200\n",
            "1/1 [==============================] - 0s 8ms/step - loss: 3.1768 - mae: 3.1768\n",
            "Epoch 85/200\n",
            "1/1 [==============================] - 0s 8ms/step - loss: 3.1610 - mae: 3.1610\n",
            "Epoch 86/200\n",
            "1/1 [==============================] - 0s 7ms/step - loss: 3.1514 - mae: 3.1514\n",
            "Epoch 87/200\n",
            "1/1 [==============================] - 0s 8ms/step - loss: 3.1331 - mae: 3.1331\n",
            "Epoch 88/200\n",
            "1/1 [==============================] - 0s 7ms/step - loss: 3.1141 - mae: 3.1141\n",
            "Epoch 89/200\n",
            "1/1 [==============================] - 0s 8ms/step - loss: 3.0893 - mae: 3.0893\n",
            "Epoch 90/200\n",
            "1/1 [==============================] - 0s 8ms/step - loss: 3.0642 - mae: 3.0642\n",
            "Epoch 91/200\n",
            "1/1 [==============================] - 0s 8ms/step - loss: 3.0538 - mae: 3.0538\n",
            "Epoch 92/200\n",
            "1/1 [==============================] - 0s 8ms/step - loss: 3.0172 - mae: 3.0172\n",
            "Epoch 93/200\n",
            "1/1 [==============================] - 0s 8ms/step - loss: 2.9946 - mae: 2.9946\n",
            "Epoch 94/200\n",
            "1/1 [==============================] - 0s 7ms/step - loss: 2.9658 - mae: 2.9658\n",
            "Epoch 95/200\n",
            "1/1 [==============================] - 0s 7ms/step - loss: 2.9307 - mae: 2.9307\n",
            "Epoch 96/200\n",
            "1/1 [==============================] - 0s 8ms/step - loss: 2.8859 - mae: 2.8859\n",
            "Epoch 97/200\n",
            "1/1 [==============================] - 0s 11ms/step - loss: 2.8261 - mae: 2.8261\n",
            "Epoch 98/200\n",
            "1/1 [==============================] - 0s 9ms/step - loss: 2.8221 - mae: 2.8221\n",
            "Epoch 99/200\n",
            "1/1 [==============================] - 0s 10ms/step - loss: 2.7761 - mae: 2.7761\n",
            "Epoch 100/200\n",
            "1/1 [==============================] - 0s 10ms/step - loss: 2.6956 - mae: 2.6956\n",
            "Epoch 101/200\n",
            "1/1 [==============================] - 0s 11ms/step - loss: 2.6770 - mae: 2.6770\n",
            "Epoch 102/200\n",
            "1/1 [==============================] - 0s 11ms/step - loss: 2.6210 - mae: 2.6210\n",
            "Epoch 103/200\n",
            "1/1 [==============================] - 0s 10ms/step - loss: 2.5754 - mae: 2.5754\n",
            "Epoch 104/200\n",
            "1/1 [==============================] - 0s 9ms/step - loss: 2.5277 - mae: 2.5277\n",
            "Epoch 105/200\n",
            "1/1 [==============================] - 0s 9ms/step - loss: 2.4825 - mae: 2.4825\n",
            "Epoch 106/200\n",
            "1/1 [==============================] - 0s 10ms/step - loss: 2.4268 - mae: 2.4268\n",
            "Epoch 107/200\n",
            "1/1 [==============================] - 0s 10ms/step - loss: 2.4116 - mae: 2.4116\n",
            "Epoch 108/200\n",
            "1/1 [==============================] - 0s 10ms/step - loss: 2.3346 - mae: 2.3346\n",
            "Epoch 109/200\n",
            "1/1 [==============================] - 0s 9ms/step - loss: 2.2665 - mae: 2.2665\n",
            "Epoch 110/200\n",
            "1/1 [==============================] - 0s 10ms/step - loss: 2.2143 - mae: 2.2143\n",
            "Epoch 111/200\n",
            "1/1 [==============================] - 0s 11ms/step - loss: 2.1578 - mae: 2.1578\n",
            "Epoch 112/200\n",
            "1/1 [==============================] - 0s 10ms/step - loss: 2.0612 - mae: 2.0612\n",
            "Epoch 113/200\n",
            "1/1 [==============================] - 0s 10ms/step - loss: 1.9916 - mae: 1.9916\n",
            "Epoch 114/200\n",
            "1/1 [==============================] - 0s 14ms/step - loss: 1.9030 - mae: 1.9030\n",
            "Epoch 115/200\n",
            "1/1 [==============================] - 0s 8ms/step - loss: 1.8286 - mae: 1.8286\n",
            "Epoch 116/200\n",
            "1/1 [==============================] - 0s 7ms/step - loss: 1.7586 - mae: 1.7586\n",
            "Epoch 117/200\n",
            "1/1 [==============================] - 0s 8ms/step - loss: 1.6714 - mae: 1.6714\n",
            "Epoch 118/200\n",
            "1/1 [==============================] - 0s 9ms/step - loss: 1.5479 - mae: 1.5479\n",
            "Epoch 119/200\n",
            "1/1 [==============================] - 0s 9ms/step - loss: 1.3982 - mae: 1.3982\n",
            "Epoch 120/200\n",
            "1/1 [==============================] - 0s 9ms/step - loss: 1.3640 - mae: 1.3640\n",
            "Epoch 121/200\n",
            "1/1 [==============================] - 0s 9ms/step - loss: 1.2280 - mae: 1.2280\n",
            "Epoch 122/200\n",
            "1/1 [==============================] - 0s 9ms/step - loss: 1.1593 - mae: 1.1593\n",
            "Epoch 123/200\n",
            "1/1 [==============================] - 0s 11ms/step - loss: 1.0248 - mae: 1.0248\n",
            "Epoch 124/200\n",
            "1/1 [==============================] - 0s 11ms/step - loss: 0.9220 - mae: 0.9220\n",
            "Epoch 125/200\n",
            "1/1 [==============================] - 0s 12ms/step - loss: 0.8073 - mae: 0.8073\n",
            "Epoch 126/200\n",
            "1/1 [==============================] - 0s 16ms/step - loss: 0.6315 - mae: 0.6315\n",
            "Epoch 127/200\n",
            "1/1 [==============================] - 0s 9ms/step - loss: 0.5561 - mae: 0.5561\n",
            "Epoch 128/200\n",
            "1/1 [==============================] - 0s 10ms/step - loss: 0.5199 - mae: 0.5199\n",
            "Epoch 129/200\n",
            "1/1 [==============================] - 0s 9ms/step - loss: 0.4446 - mae: 0.4446\n",
            "Epoch 130/200\n",
            "1/1 [==============================] - 0s 9ms/step - loss: 0.3974 - mae: 0.3974\n",
            "Epoch 131/200\n",
            "1/1 [==============================] - 0s 8ms/step - loss: 0.4934 - mae: 0.4934\n",
            "Epoch 132/200\n",
            "1/1 [==============================] - 0s 9ms/step - loss: 0.3428 - mae: 0.3428\n",
            "Epoch 133/200\n",
            "1/1 [==============================] - 0s 9ms/step - loss: 0.3127 - mae: 0.3127\n",
            "Epoch 134/200\n",
            "1/1 [==============================] - 0s 9ms/step - loss: 0.4130 - mae: 0.4130\n",
            "Epoch 135/200\n",
            "1/1 [==============================] - 0s 10ms/step - loss: 0.3008 - mae: 0.3008\n",
            "Epoch 136/200\n",
            "1/1 [==============================] - 0s 9ms/step - loss: 0.2968 - mae: 0.2968\n",
            "Epoch 137/200\n",
            "1/1 [==============================] - 0s 11ms/step - loss: 0.4503 - mae: 0.4503\n",
            "Epoch 138/200\n",
            "1/1 [==============================] - 0s 10ms/step - loss: 0.3557 - mae: 0.3557\n",
            "Epoch 139/200\n",
            "1/1 [==============================] - 0s 9ms/step - loss: 0.6509 - mae: 0.6509\n",
            "Epoch 140/200\n",
            "1/1 [==============================] - 0s 8ms/step - loss: 0.4999 - mae: 0.4999\n",
            "Epoch 141/200\n",
            "1/1 [==============================] - 0s 9ms/step - loss: 0.4994 - mae: 0.4994\n",
            "Epoch 142/200\n",
            "1/1 [==============================] - 0s 9ms/step - loss: 0.5544 - mae: 0.5544\n",
            "Epoch 143/200\n",
            "1/1 [==============================] - 0s 8ms/step - loss: 0.2517 - mae: 0.2517\n",
            "Epoch 144/200\n",
            "1/1 [==============================] - 0s 9ms/step - loss: 0.5431 - mae: 0.5431\n",
            "Epoch 145/200\n",
            "1/1 [==============================] - 0s 9ms/step - loss: 0.4525 - mae: 0.4525\n",
            "Epoch 146/200\n",
            "1/1 [==============================] - 0s 9ms/step - loss: 0.3102 - mae: 0.3102\n",
            "Epoch 147/200\n",
            "1/1 [==============================] - 0s 8ms/step - loss: 0.3521 - mae: 0.3521\n",
            "Epoch 148/200\n",
            "1/1 [==============================] - 0s 9ms/step - loss: 0.2794 - mae: 0.2794\n",
            "Epoch 149/200\n",
            "1/1 [==============================] - 0s 15ms/step - loss: 0.2349 - mae: 0.2349\n",
            "Epoch 150/200\n",
            "1/1 [==============================] - 0s 8ms/step - loss: 0.3323 - mae: 0.3323\n",
            "Epoch 151/200\n",
            "1/1 [==============================] - 0s 9ms/step - loss: 0.3133 - mae: 0.3133\n",
            "Epoch 152/200\n",
            "1/1 [==============================] - 0s 8ms/step - loss: 0.2786 - mae: 0.2786\n",
            "Epoch 153/200\n",
            "1/1 [==============================] - 0s 9ms/step - loss: 0.3260 - mae: 0.3260\n",
            "Epoch 154/200\n",
            "1/1 [==============================] - 0s 10ms/step - loss: 0.2648 - mae: 0.2648\n",
            "Epoch 155/200\n",
            "1/1 [==============================] - 0s 8ms/step - loss: 0.2863 - mae: 0.2863\n",
            "Epoch 156/200\n",
            "1/1 [==============================] - 0s 12ms/step - loss: 0.1936 - mae: 0.1936\n",
            "Epoch 157/200\n",
            "1/1 [==============================] - 0s 9ms/step - loss: 0.3170 - mae: 0.3170\n",
            "Epoch 158/200\n",
            "1/1 [==============================] - 0s 9ms/step - loss: 0.2489 - mae: 0.2489\n",
            "Epoch 159/200\n",
            "1/1 [==============================] - 0s 11ms/step - loss: 0.2735 - mae: 0.2735\n",
            "Epoch 160/200\n",
            "1/1 [==============================] - 0s 11ms/step - loss: 0.1374 - mae: 0.1374\n",
            "Epoch 161/200\n",
            "1/1 [==============================] - 0s 14ms/step - loss: 0.1691 - mae: 0.1691\n",
            "Epoch 162/200\n",
            "1/1 [==============================] - 0s 11ms/step - loss: 0.1712 - mae: 0.1712\n",
            "Epoch 163/200\n",
            "1/1 [==============================] - 0s 11ms/step - loss: 0.1355 - mae: 0.1355\n",
            "Epoch 164/200\n",
            "1/1 [==============================] - 0s 13ms/step - loss: 0.0880 - mae: 0.0880\n",
            "Epoch 165/200\n",
            "1/1 [==============================] - 0s 12ms/step - loss: 0.1844 - mae: 0.1844\n",
            "Epoch 166/200\n",
            "1/1 [==============================] - 0s 9ms/step - loss: 0.1333 - mae: 0.1333\n",
            "Epoch 167/200\n",
            "1/1 [==============================] - 0s 8ms/step - loss: 0.0774 - mae: 0.0774\n",
            "Epoch 168/200\n",
            "1/1 [==============================] - 0s 8ms/step - loss: 0.1768 - mae: 0.1768\n",
            "Epoch 169/200\n",
            "1/1 [==============================] - 0s 9ms/step - loss: 0.0533 - mae: 0.0533\n",
            "Epoch 170/200\n",
            "1/1 [==============================] - 0s 14ms/step - loss: 0.3535 - mae: 0.3535\n",
            "Epoch 171/200\n",
            "1/1 [==============================] - 0s 12ms/step - loss: 0.3985 - mae: 0.3985\n",
            "Epoch 172/200\n",
            "1/1 [==============================] - 0s 9ms/step - loss: 0.1486 - mae: 0.1486\n",
            "Epoch 173/200\n",
            "1/1 [==============================] - 0s 7ms/step - loss: 0.3789 - mae: 0.3789\n",
            "Epoch 174/200\n",
            "1/1 [==============================] - 0s 6ms/step - loss: 0.5241 - mae: 0.5241\n",
            "Epoch 175/200\n",
            "1/1 [==============================] - 0s 7ms/step - loss: 0.3651 - mae: 0.3651\n",
            "Epoch 176/200\n",
            "1/1 [==============================] - 0s 7ms/step - loss: 0.0700 - mae: 0.0700\n",
            "Epoch 177/200\n",
            "1/1 [==============================] - 0s 7ms/step - loss: 0.1588 - mae: 0.1588\n",
            "Epoch 178/200\n",
            "1/1 [==============================] - 0s 7ms/step - loss: 0.0698 - mae: 0.0698\n",
            "Epoch 179/200\n",
            "1/1 [==============================] - 0s 8ms/step - loss: 0.0480 - mae: 0.0480\n",
            "Epoch 180/200\n",
            "1/1 [==============================] - 0s 10ms/step - loss: 0.1788 - mae: 0.1788\n",
            "Epoch 181/200\n",
            "1/1 [==============================] - 0s 10ms/step - loss: 0.0690 - mae: 0.0690\n",
            "Epoch 182/200\n",
            "1/1 [==============================] - 0s 9ms/step - loss: 0.3080 - mae: 0.3080\n",
            "Epoch 183/200\n",
            "1/1 [==============================] - 0s 8ms/step - loss: 0.3318 - mae: 0.3318\n",
            "Epoch 184/200\n",
            "1/1 [==============================] - 0s 8ms/step - loss: 0.1206 - mae: 0.1206\n",
            "Epoch 185/200\n",
            "1/1 [==============================] - 0s 7ms/step - loss: 0.3402 - mae: 0.3402\n",
            "Epoch 186/200\n",
            "1/1 [==============================] - 0s 7ms/step - loss: 0.4811 - mae: 0.4811\n",
            "Epoch 187/200\n",
            "1/1 [==============================] - 0s 7ms/step - loss: 0.3342 - mae: 0.3342\n",
            "Epoch 188/200\n",
            "1/1 [==============================] - 0s 7ms/step - loss: 0.0622 - mae: 0.0622\n",
            "Epoch 189/200\n",
            "1/1 [==============================] - 0s 7ms/step - loss: 0.2464 - mae: 0.2464\n",
            "Epoch 190/200\n",
            "1/1 [==============================] - 0s 9ms/step - loss: 0.1697 - mae: 0.1697\n",
            "Epoch 191/200\n",
            "1/1 [==============================] - 0s 8ms/step - loss: 0.1482 - mae: 0.1482\n",
            "Epoch 192/200\n",
            "1/1 [==============================] - 0s 8ms/step - loss: 0.1699 - mae: 0.1699\n",
            "Epoch 193/200\n",
            "1/1 [==============================] - 0s 7ms/step - loss: 0.0686 - mae: 0.0686\n",
            "Epoch 194/200\n",
            "1/1 [==============================] - 0s 8ms/step - loss: 0.1658 - mae: 0.1658\n",
            "Epoch 195/200\n",
            "1/1 [==============================] - 0s 8ms/step - loss: 0.0885 - mae: 0.0885\n",
            "Epoch 196/200\n",
            "1/1 [==============================] - 0s 8ms/step - loss: 0.1215 - mae: 0.1215\n",
            "Epoch 197/200\n",
            "1/1 [==============================] - 0s 9ms/step - loss: 0.1040 - mae: 0.1040\n",
            "Epoch 198/200\n",
            "1/1 [==============================] - 0s 8ms/step - loss: 0.1408 - mae: 0.1408\n",
            "Epoch 199/200\n",
            "1/1 [==============================] - 0s 8ms/step - loss: 0.1647 - mae: 0.1647\n",
            "Epoch 200/200\n",
            "1/1 [==============================] - 0s 8ms/step - loss: 0.1012 - mae: 0.1012\n"
          ]
        },
        {
          "output_type": "execute_result",
          "data": {
            "text/plain": [
              "<keras.callbacks.History at 0x7f53e81ac430>"
            ]
          },
          "metadata": {},
          "execution_count": 24
        }
      ]
    },
    {
      "cell_type": "code",
      "source": [
        "# let's predict our model output\n",
        "model.predict(tf.constant([17.0]))"
      ],
      "metadata": {
        "colab": {
          "base_uri": "https://localhost:8080/"
        },
        "id": "RXzOb-bFw1Ze",
        "outputId": "f5929276-d5ec-4328-933c-261f1e7ab715"
      },
      "execution_count": 25,
      "outputs": [
        {
          "output_type": "stream",
          "name": "stderr",
          "text": [
            "WARNING:tensorflow:5 out of the last 5 calls to <function Model.make_predict_function.<locals>.predict_function at 0x7f53e814d790> triggered tf.function retracing. Tracing is expensive and the excessive number of tracings could be due to (1) creating @tf.function repeatedly in a loop, (2) passing tensors with different shapes, (3) passing Python objects instead of tensors. For (1), please define your @tf.function outside of the loop. For (2), @tf.function has reduce_retracing=True option that can avoid unnecessary retracing. For (3), please refer to https://www.tensorflow.org/guide/function#controlling_retracing and https://www.tensorflow.org/api_docs/python/tf/function for  more details.\n"
          ]
        },
        {
          "output_type": "stream",
          "name": "stdout",
          "text": [
            "1/1 [==============================] - 0s 102ms/step\n"
          ]
        },
        {
          "output_type": "execute_result",
          "data": {
            "text/plain": [
              "array([[26.950294]], dtype=float32)"
            ]
          },
          "metadata": {},
          "execution_count": 25
        }
      ]
    },
    {
      "cell_type": "markdown",
      "source": [
        "### Evaluating a model\n",
        "\n",
        "In practice , a typical workflow you'll go throuth when building neural networks is:\n",
        "\n",
        "```\n",
        "Build a model -> fit it -> evaluate it -> tweak a model -> fit it -> evaluate it -> tweak a model -> fit it -> evaluate it ...\n",
        "```"
      ],
      "metadata": {
        "id": "oBuBAEcbxCc6"
      }
    },
    {
      "cell_type": "markdown",
      "source": [
        "when it comes to evaluation... there are 3 words you shold memoriz:\n",
        "\n",
        "> \"Visualize, visualize, visualize\"\n",
        "\n",
        "it's a good idea to visualize:\n",
        "* The data - what data are we working with? What does it look like?\n",
        "* The model itselt - what does our model look like?\n",
        "* The training of a model - how does a model perform while it learns?\n",
        "* The predictions of a model - how do the predictions of a model line up against the ground truth (the original labels)?"
      ],
      "metadata": {
        "id": "_QJ708ayzPF5"
      }
    },
    {
      "cell_type": "code",
      "source": [
        "# Make a bigger dataset\n",
        "X = tf.range(-100, 100, 4)\n",
        "X"
      ],
      "metadata": {
        "colab": {
          "base_uri": "https://localhost:8080/"
        },
        "id": "4urBqB069nvQ",
        "outputId": "4b790e0e-18da-4781-c26d-175b53a43c59"
      },
      "execution_count": 26,
      "outputs": [
        {
          "output_type": "execute_result",
          "data": {
            "text/plain": [
              "<tf.Tensor: shape=(50,), dtype=int32, numpy=\n",
              "array([-100,  -96,  -92,  -88,  -84,  -80,  -76,  -72,  -68,  -64,  -60,\n",
              "        -56,  -52,  -48,  -44,  -40,  -36,  -32,  -28,  -24,  -20,  -16,\n",
              "        -12,   -8,   -4,    0,    4,    8,   12,   16,   20,   24,   28,\n",
              "         32,   36,   40,   44,   48,   52,   56,   60,   64,   68,   72,\n",
              "         76,   80,   84,   88,   92,   96], dtype=int32)>"
            ]
          },
          "metadata": {},
          "execution_count": 26
        }
      ]
    },
    {
      "cell_type": "code",
      "source": [
        "# Make labels for the dataset\n",
        "y = X + 10\n",
        "y"
      ],
      "metadata": {
        "colab": {
          "base_uri": "https://localhost:8080/"
        },
        "id": "_3PZ0R3F911p",
        "outputId": "7fa76393-71b7-4af2-96e7-d85940a4abd3"
      },
      "execution_count": 27,
      "outputs": [
        {
          "output_type": "execute_result",
          "data": {
            "text/plain": [
              "<tf.Tensor: shape=(50,), dtype=int32, numpy=\n",
              "array([-90, -86, -82, -78, -74, -70, -66, -62, -58, -54, -50, -46, -42,\n",
              "       -38, -34, -30, -26, -22, -18, -14, -10,  -6,  -2,   2,   6,  10,\n",
              "        14,  18,  22,  26,  30,  34,  38,  42,  46,  50,  54,  58,  62,\n",
              "        66,  70,  74,  78,  82,  86,  90,  94,  98, 102, 106], dtype=int32)>"
            ]
          },
          "metadata": {},
          "execution_count": 27
        }
      ]
    },
    {
      "cell_type": "code",
      "source": [
        "# Visualize the data\n",
        "import matplotlib.pyplot as plt\n",
        "\n",
        "plt.scatter(X, y)"
      ],
      "metadata": {
        "colab": {
          "base_uri": "https://localhost:8080/",
          "height": 448
        },
        "id": "RQzzZeHo985n",
        "outputId": "a0a2c4fe-9e8b-4b84-bc66-e4e1bfc721f4"
      },
      "execution_count": 29,
      "outputs": [
        {
          "output_type": "execute_result",
          "data": {
            "text/plain": [
              "<matplotlib.collections.PathCollection at 0x7f53e80dfd00>"
            ]
          },
          "metadata": {},
          "execution_count": 29
        },
        {
          "output_type": "display_data",
          "data": {
            "text/plain": [
              "<Figure size 640x480 with 1 Axes>"
            ],
            "image/png": "[encoded data removed]"
          },
          "metadata": {}
        }
      ]
    },
    {
      "cell_type": "markdown",
      "source": [
        "### The 3 sets..\n",
        "\n",
        "* **Training set** - the model learns from this data, which is typically 70-80% of the total data you have available.\n",
        "* **Validation set** - the model gets tuned on this data, which is typically 10-15% of the data available.\n",
        "* **Test set** - the model gets evaluated on this data to test what is has learned, this set is typically 10-15% of the total data available."
      ],
      "metadata": {
        "id": "f-s_JU_e-GNX"
      }
    },
    {
      "cell_type": "code",
      "source": [
        "# Check the length of how many samples we have\n",
        "len(X)"
      ],
      "metadata": {
        "colab": {
          "base_uri": "https://localhost:8080/"
        },
        "id": "hPvdiMnS-csv",
        "outputId": "075f7924-753f-43a9-b304-a629f13f3523"
      },
      "execution_count": 30,
      "outputs": [
        {
          "output_type": "execute_result",
          "data": {
            "text/plain": [
              "50"
            ]
          },
          "metadata": {},
          "execution_count": 30
        }
      ]
    },
    {
      "cell_type": "code",
      "source": [
        "# Split the data into train and test sets\n",
        "X_train = X[:40] # first 40 are training samples (80% of the data)\n",
        "y_train = y[:40]\n",
        "\n",
        "X_test = X[40:] # last 10 are the testing samples (20% of the data)\n",
        "y_test = y[40:]\n",
        "\n",
        "len(X_train), len(X_test), len(y_train), len(y_test)"
      ],
      "metadata": {
        "colab": {
          "base_uri": "https://localhost:8080/"
        },
        "id": "sBKUnQV0_YNX",
        "outputId": "dab6bac6-9eac-4b54-b1ed-562c7f89bb6a"
      },
      "execution_count": 31,
      "outputs": [
        {
          "output_type": "execute_result",
          "data": {
            "text/plain": [
              "(40, 10, 40, 10)"
            ]
          },
          "metadata": {},
          "execution_count": 31
        }
      ]
    },
    {
      "cell_type": "markdown",
      "source": [
        "### Visualizing the data\n",
        "\n",
        "Now we've got our data in training and test sets... let's visualize it again!"
      ],
      "metadata": {
        "id": "9LranOI1ACvq"
      }
    },
    {
      "cell_type": "code",
      "source": [
        "plt.figure(figsize=(10, 7))\n",
        "# plot training data in blue\n",
        "plt.scatter(X_train, y_train, c='b', label='Training data')\n",
        "# plot test data in green\n",
        "plt.scatter(X_test, y_test, c='g', label='Testing data')\n",
        "# show a legend\n",
        "plt.legend()\n",
        "plt.show()"
      ],
      "metadata": {
        "colab": {
          "base_uri": "https://localhost:8080/",
          "height": 599
        },
        "id": "w9eLFJ64AUpp",
        "outputId": "be26256f-d0df-47ac-9d4e-a1dd69ec2d38"
      },
      "execution_count": 33,
      "outputs": [
        {
          "output_type": "display_data",
          "data": {
            "text/plain": [
              "<Figure size 1000x700 with 1 Axes>"
            ],
            "image/png": "[encoded data removed]"
          },
          "metadata": {}
        }
      ]
    },
    {
      "cell_type": "code",
      "source": [],
      "metadata": {
        "id": "8FymVJpkAmRM"
      },
      "execution_count": null,
      "outputs": []
    }
  ]
}